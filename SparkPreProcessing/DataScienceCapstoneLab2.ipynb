{
 "cells": [
  {
   "cell_type": "markdown",
   "metadata": {},
   "source": [
    "<h2>Ben Gruher Lab 2</h2>"
   ]
  },
  {
   "cell_type": "code",
   "execution_count": 2,
   "metadata": {},
   "outputs": [
    {
     "data": {
      "application/vnd.jupyter.widget-view+json": {
       "model_id": "6638ca02f2a949d1b70f6778787948a6",
       "version_major": 2,
       "version_minor": 0
      },
      "text/plain": [
       "VBox()"
      ]
     },
     "metadata": {},
     "output_type": "display_data"
    },
    {
     "data": {
      "application/vnd.jupyter.widget-view+json": {
       "model_id": "",
       "version_major": 2,
       "version_minor": 0
      },
      "text/plain": [
       "FloatProgress(value=0.0, bar_style='info', description='Progress:', layout=Layout(height='25px', width='50%'),…"
      ]
     },
     "metadata": {},
     "output_type": "display_data"
    },
    {
     "name": "stdout",
     "output_type": "stream",
     "text": [
      "<SparkContext master=yarn appName=livy-session-0>"
     ]
    }
   ],
   "source": [
    "sc"
   ]
  },
  {
   "cell_type": "markdown",
   "metadata": {},
   "source": [
    "<h4>Helper functions and global variables</h4>"
   ]
  },
  {
   "cell_type": "code",
   "execution_count": 3,
   "metadata": {},
   "outputs": [
    {
     "data": {
      "application/vnd.jupyter.widget-view+json": {
       "model_id": "14edf0989bfe426881f055ce5feb210c",
       "version_major": 2,
       "version_minor": 0
      },
      "text/plain": [
       "VBox()"
      ]
     },
     "metadata": {},
     "output_type": "display_data"
    },
    {
     "data": {
      "application/vnd.jupyter.widget-view+json": {
       "model_id": "",
       "version_major": 2,
       "version_minor": 0
      },
      "text/plain": [
       "FloatProgress(value=0.0, bar_style='info', description='Progress:', layout=Layout(height='25px', width='50%'),…"
      ]
     },
     "metadata": {},
     "output_type": "display_data"
    }
   ],
   "source": [
    "# S3 path locations for parquet files\n",
    "\n",
    "OBSERVATION_OUTPUT_LOCATION = 's3://<BUCKET_NAME>/gruherb/observations/'\n",
    "AIRCRAFT_OUTPUT_LOCATION = 's3://<BUCKET_NAME>/gruherb/aircraft/'\n",
    "OPERATOR_OUTPUT_LOCATION = 's3://<BUCKET_NAME>/gruherb/operator/'"
   ]
  },
  {
   "cell_type": "code",
   "execution_count": 4,
   "metadata": {},
   "outputs": [
    {
     "data": {
      "application/vnd.jupyter.widget-view+json": {
       "model_id": "7f5cafe6c1054922b7e69e58aea049cc",
       "version_major": 2,
       "version_minor": 0
      },
      "text/plain": [
       "VBox()"
      ]
     },
     "metadata": {},
     "output_type": "display_data"
    },
    {
     "data": {
      "application/vnd.jupyter.widget-view+json": {
       "model_id": "",
       "version_major": 2,
       "version_minor": 0
      },
      "text/plain": [
       "FloatProgress(value=0.0, bar_style='info', description='Progress:', layout=Layout(height='25px', width='50%'),…"
      ]
     },
     "metadata": {},
     "output_type": "display_data"
    }
   ],
   "source": [
    "# list of field names (includes Reg for filtering US flights)\n",
    "\n",
    "OBSERVATION_FIELDS = ['Icao', 'Reg', 'Alt', 'Lat', 'Long', 'PosTime', 'Spd', 'From', 'To', 'Gnd']\n",
    "AIRCRAFT_FIELDS = ['Icao', 'Reg', 'Species', 'Mil', 'Cou', 'Type']\n",
    "OPERATOR_FIELDS = ['Icao', 'Reg', 'Op', 'OpIcao']"
   ]
  },
  {
   "cell_type": "code",
   "execution_count": 5,
   "metadata": {},
   "outputs": [
    {
     "data": {
      "application/vnd.jupyter.widget-view+json": {
       "model_id": "ff46fa5d54fe4d2184bdb62d308603ec",
       "version_major": 2,
       "version_minor": 0
      },
      "text/plain": [
       "VBox()"
      ]
     },
     "metadata": {},
     "output_type": "display_data"
    },
    {
     "data": {
      "application/vnd.jupyter.widget-view+json": {
       "model_id": "",
       "version_major": 2,
       "version_minor": 0
      },
      "text/plain": [
       "FloatProgress(value=0.0, bar_style='info', description='Progress:', layout=Layout(height='25px', width='50%'),…"
      ]
     },
     "metadata": {},
     "output_type": "display_data"
    }
   ],
   "source": [
    "# helper function - converts files into JSON objects\n",
    "\n",
    "import json\n",
    "\n",
    "def jsonify(s):\n",
    "    try:\n",
    "        s = s.replace(\"\\n\", \"\")\n",
    "        j = json.loads(s)\n",
    "        return j['acList']\n",
    "    except:\n",
    "        return None"
   ]
  },
  {
   "cell_type": "code",
   "execution_count": 6,
   "metadata": {},
   "outputs": [
    {
     "data": {
      "application/vnd.jupyter.widget-view+json": {
       "model_id": "0790d4b372de4944a37bb384186d653a",
       "version_major": 2,
       "version_minor": 0
      },
      "text/plain": [
       "VBox()"
      ]
     },
     "metadata": {},
     "output_type": "display_data"
    },
    {
     "data": {
      "application/vnd.jupyter.widget-view+json": {
       "model_id": "",
       "version_major": 2,
       "version_minor": 0
      },
      "text/plain": [
       "FloatProgress(value=0.0, bar_style='info', description='Progress:', layout=Layout(height='25px', width='50%'),…"
      ]
     },
     "metadata": {},
     "output_type": "display_data"
    }
   ],
   "source": [
    "# helper function - takes fields relavant for observations\n",
    "\n",
    "import datetime\n",
    "\n",
    "def procPosTime(posTime):\n",
    "    return datetime.datetime.fromtimestamp(int(posTime)/1000.0)\n",
    "\n",
    "def extractAndTransformObservations(j):\n",
    "    try:\n",
    "        l = list(map(lambda f: j.get(f, None), OBSERVATION_FIELDS))\n",
    "        i = OBSERVATION_FIELDS.index('PosTime')\n",
    "        if l[i] != None:\n",
    "            l[i] = procPosTime(l[i])\n",
    "        return l\n",
    "    except:\n",
    "        return None"
   ]
  },
  {
   "cell_type": "code",
   "execution_count": 7,
   "metadata": {},
   "outputs": [
    {
     "data": {
      "application/vnd.jupyter.widget-view+json": {
       "model_id": "18c526aa916548d084e61c93803d7f49",
       "version_major": 2,
       "version_minor": 0
      },
      "text/plain": [
       "VBox()"
      ]
     },
     "metadata": {},
     "output_type": "display_data"
    },
    {
     "data": {
      "application/vnd.jupyter.widget-view+json": {
       "model_id": "",
       "version_major": 2,
       "version_minor": 0
      },
      "text/plain": [
       "FloatProgress(value=0.0, bar_style='info', description='Progress:', layout=Layout(height='25px', width='50%'),…"
      ]
     },
     "metadata": {},
     "output_type": "display_data"
    }
   ],
   "source": [
    "# helper function - takes fields relavant for aircraft\n",
    "\n",
    "def extractAndTransformAircraft(j):\n",
    "    try:\n",
    "        l = list(map(lambda f: j.get(f, None), AIRCRAFT_FIELDS))\n",
    "        return l\n",
    "    except:\n",
    "        return None"
   ]
  },
  {
   "cell_type": "code",
   "execution_count": 8,
   "metadata": {},
   "outputs": [
    {
     "data": {
      "application/vnd.jupyter.widget-view+json": {
       "model_id": "49b21be8c4514542a4242d50cddc31f8",
       "version_major": 2,
       "version_minor": 0
      },
      "text/plain": [
       "VBox()"
      ]
     },
     "metadata": {},
     "output_type": "display_data"
    },
    {
     "data": {
      "application/vnd.jupyter.widget-view+json": {
       "model_id": "",
       "version_major": 2,
       "version_minor": 0
      },
      "text/plain": [
       "FloatProgress(value=0.0, bar_style='info', description='Progress:', layout=Layout(height='25px', width='50%'),…"
      ]
     },
     "metadata": {},
     "output_type": "display_data"
    }
   ],
   "source": [
    "# helper function - takes fields relavant for operator\n",
    "\n",
    "def extractAndTransformOperator(j):\n",
    "    try:\n",
    "        l = list(map(lambda f: j.get(f, None), OPERATOR_FIELDS))\n",
    "        return l\n",
    "    except:\n",
    "        return None"
   ]
  },
  {
   "cell_type": "code",
   "execution_count": 9,
   "metadata": {},
   "outputs": [
    {
     "data": {
      "application/vnd.jupyter.widget-view+json": {
       "model_id": "e3f3ffd1dbff4a699b680576c7d4796a",
       "version_major": 2,
       "version_minor": 0
      },
      "text/plain": [
       "VBox()"
      ]
     },
     "metadata": {},
     "output_type": "display_data"
    },
    {
     "data": {
      "application/vnd.jupyter.widget-view+json": {
       "model_id": "",
       "version_major": 2,
       "version_minor": 0
      },
      "text/plain": [
       "FloatProgress(value=0.0, bar_style='info', description='Progress:', layout=Layout(height='25px', width='50%'),…"
      ]
     },
     "metadata": {},
     "output_type": "display_data"
    }
   ],
   "source": [
    "from pyspark.sql.types import StringType, IntegerType, LongType, DoubleType, BooleanType, TimestampType\n",
    "from pyspark.sql.types import StructType, StructField\n",
    "\n",
    "observation_schema = StructType(\n",
    "    [\n",
    "        StructField('Icao', StringType(), False),\n",
    "        StructField('Alt', IntegerType(), True),\n",
    "        StructField('Lat', DoubleType(), True),\n",
    "        StructField('Long', DoubleType(), True),\n",
    "        StructField('PosTime', TimestampType(), True),\n",
    "        StructField('Spd', DoubleType(), True),\n",
    "        StructField('From', StringType(), True),\n",
    "        StructField('To', StringType(), True),\n",
    "        StructField('Gnd', BooleanType(), True)\n",
    "    ]\n",
    ")"
   ]
  },
  {
   "cell_type": "code",
   "execution_count": 10,
   "metadata": {},
   "outputs": [
    {
     "data": {
      "application/vnd.jupyter.widget-view+json": {
       "model_id": "deea0267547c44a09d697ffe78f4df1e",
       "version_major": 2,
       "version_minor": 0
      },
      "text/plain": [
       "VBox()"
      ]
     },
     "metadata": {},
     "output_type": "display_data"
    },
    {
     "data": {
      "application/vnd.jupyter.widget-view+json": {
       "model_id": "",
       "version_major": 2,
       "version_minor": 0
      },
      "text/plain": [
       "FloatProgress(value=0.0, bar_style='info', description='Progress:', layout=Layout(height='25px', width='50%'),…"
      ]
     },
     "metadata": {},
     "output_type": "display_data"
    }
   ],
   "source": [
    "aircraft_schema = StructType(\n",
    "    [\n",
    "        StructField('Icao', StringType(), False),\n",
    "        StructField('Species', IntegerType(), True),\n",
    "        StructField('Mil', BooleanType(), True),\n",
    "        StructField('Cou', StringType(), True),\n",
    "        StructField('Type', StringType(), True)\n",
    "    ]\n",
    ")"
   ]
  },
  {
   "cell_type": "code",
   "execution_count": 11,
   "metadata": {},
   "outputs": [
    {
     "data": {
      "application/vnd.jupyter.widget-view+json": {
       "model_id": "e67b7673f9724bc6941661c026e6d747",
       "version_major": 2,
       "version_minor": 0
      },
      "text/plain": [
       "VBox()"
      ]
     },
     "metadata": {},
     "output_type": "display_data"
    },
    {
     "data": {
      "application/vnd.jupyter.widget-view+json": {
       "model_id": "",
       "version_major": 2,
       "version_minor": 0
      },
      "text/plain": [
       "FloatProgress(value=0.0, bar_style='info', description='Progress:', layout=Layout(height='25px', width='50%'),…"
      ]
     },
     "metadata": {},
     "output_type": "display_data"
    }
   ],
   "source": [
    "operator_schema = StructType(\n",
    "    [\n",
    "        StructField('Icao', StringType(), False),\n",
    "        StructField('Op', StringType(), True),\n",
    "        StructField('OpIcao', StringType(), True)\n",
    "    ]\n",
    ")"
   ]
  },
  {
   "cell_type": "markdown",
   "metadata": {},
   "source": [
    "<h4>Main function:</h4>"
   ]
  },
  {
   "cell_type": "code",
   "execution_count": 12,
   "metadata": {},
   "outputs": [
    {
     "data": {
      "application/vnd.jupyter.widget-view+json": {
       "model_id": "a45b4a962e9e4d07bd157a9b69704bb2",
       "version_major": 2,
       "version_minor": 0
      },
      "text/plain": [
       "VBox()"
      ]
     },
     "metadata": {},
     "output_type": "display_data"
    },
    {
     "data": {
      "application/vnd.jupyter.widget-view+json": {
       "model_id": "",
       "version_major": 2,
       "version_minor": 0
      },
      "text/plain": [
       "FloatProgress(value=0.0, bar_style='info', description='Progress:', layout=Layout(height='25px', width='50%'),…"
      ]
     },
     "metadata": {},
     "output_type": "display_data"
    }
   ],
   "source": [
    "def process_days(list_of_days):\n",
    "    for day in list_of_days:\n",
    "        input_path = f\"s3://<BUCKET_NAME>/{day}/*.bz2\"\n",
    "        \n",
    "        # the line below creates an RDD that takes only the file contents, jsonifies the files, filters the Nones\n",
    "        observations = sc.wholeTextFiles(input_path, minPartitions=3600).map(lambda t: t[1]).flatMap(jsonify).filter(lambda d: d is not None)\n",
    "        \n",
    "        # branch for observations\n",
    "        obs_0 = observations.map(extractAndTransformObservations).filter(lambda l: l is not None)\n",
    "        obs_1 = obs_0.filter(lambda l: l[1] != None and len(l[1]) > 0 and l[1].startswith('N'))\n",
    "        obs_2 = obs_1.map(lambda l: [l[0]] + l[2:]).filter(lambda l: l[0] is not None)\n",
    "        obs_2.take(2)\n",
    "        obs_df = spark.createDataFrame(obs_2, observation_schema)\n",
    "        obs_df.write.parquet(OBSERVATION_OUTPUT_LOCATION + day)\n",
    "        \n",
    "        # branch for aircraft\n",
    "        air_0 = observations.map(extractAndTransformAircraft).filter(lambda l: l is not None)\n",
    "        air_1 = air_0.filter(lambda l: l[1] != None and len(l[1]) > 0 and l[1].startswith('N'))\n",
    "        air_2 = air_1.map(lambda l: [l[0]] + l[2:]).filter(lambda l: l[0] is not None)\n",
    "        air_2.take(2)\n",
    "        air_df = spark.createDataFrame(air_2, aircraft_schema).dropDuplicates()\n",
    "        air_df.write.parquet(AIRCRAFT_OUTPUT_LOCATION + day)\n",
    "        \n",
    "        # branch for operator\n",
    "        op_0 = observations.map(extractAndTransformOperator).filter(lambda l: l is not None)\n",
    "        op_1 = op_0.filter(lambda l: l[1] != None and len(l[1]) > 0 and l[1].startswith('N'))\n",
    "        op_2 = op_1.map(lambda l: [l[0]] + l[2:]).filter(lambda l: l[0] is not None)\n",
    "        op_2.take(2)\n",
    "        op_df = spark.createDataFrame(op_2, operator_schema).dropDuplicates()\n",
    "        op_df.write.parquet(OPERATOR_OUTPUT_LOCATION + day)"
   ]
  },
  {
   "cell_type": "markdown",
   "metadata": {},
   "source": [
    "<h4>Analysis</h4>"
   ]
  },
  {
   "cell_type": "code",
   "execution_count": 13,
   "metadata": {},
   "outputs": [
    {
     "data": {
      "application/vnd.jupyter.widget-view+json": {
       "model_id": "61fffe92328040118683bed5684a9f09",
       "version_major": 2,
       "version_minor": 0
      },
      "text/plain": [
       "VBox()"
      ]
     },
     "metadata": {},
     "output_type": "display_data"
    },
    {
     "data": {
      "application/vnd.jupyter.widget-view+json": {
       "model_id": "",
       "version_major": 2,
       "version_minor": 0
      },
      "text/plain": [
       "FloatProgress(value=0.0, bar_style='info', description='Progress:', layout=Layout(height='25px', width='50%'),…"
      ]
     },
     "metadata": {},
     "output_type": "display_data"
    }
   ],
   "source": [
    "daysOfInterest = ['2020-10-15', '2020-10-16']\n",
    "\n",
    "operatorDataPathDayOne = 's3://<BUCKET_NAME>/gruherb/operator/2020-10-15'\n",
    "operatorDataPathDayTwo = 's3://<BUCKET_NAME>/gruherb/operator/2020-10-16'\n",
    "\n",
    "observationDataPathDayOne = 's3://<BUCKET_NAME>/gruherb/observations/2020-10-15'\n",
    "observationDataPathDayTwo = 's3://<BUCKET_NAME>/gruherb/observations/2020-10-16'\n",
    "\n",
    "aircraftDataPathDayOne = 's3://<BUCKET_NAME>/gruherb/aircraft/2020-10-15'\n",
    "aircraftDataPathDayTwo = 's3://<BUCKET_NAME>/gruherb/aircraft/2020-10-16'"
   ]
  },
  {
   "cell_type": "code",
   "execution_count": 14,
   "metadata": {},
   "outputs": [
    {
     "data": {
      "application/vnd.jupyter.widget-view+json": {
       "model_id": "8c3ae75870a7470b87fcf2da96bf6908",
       "version_major": 2,
       "version_minor": 0
      },
      "text/plain": [
       "VBox()"
      ]
     },
     "metadata": {},
     "output_type": "display_data"
    },
    {
     "data": {
      "application/vnd.jupyter.widget-view+json": {
       "model_id": "",
       "version_major": 2,
       "version_minor": 0
      },
      "text/plain": [
       "FloatProgress(value=0.0, bar_style='info', description='Progress:', layout=Layout(height='25px', width='50%'),…"
      ]
     },
     "metadata": {},
     "output_type": "display_data"
    }
   ],
   "source": [
    "# commented so this cell does not get executed again if 'Run all cells' is selected (this process takes about an hour)\n",
    "# process_days(daysOfInterest)"
   ]
  },
  {
   "cell_type": "code",
   "execution_count": 15,
   "metadata": {},
   "outputs": [
    {
     "data": {
      "application/vnd.jupyter.widget-view+json": {
       "model_id": "5b694b03a0534cda912d2f22bebef86b",
       "version_major": 2,
       "version_minor": 0
      },
      "text/plain": [
       "VBox()"
      ]
     },
     "metadata": {},
     "output_type": "display_data"
    },
    {
     "data": {
      "application/vnd.jupyter.widget-view+json": {
       "model_id": "",
       "version_major": 2,
       "version_minor": 0
      },
      "text/plain": [
       "FloatProgress(value=0.0, bar_style='info', description='Progress:', layout=Layout(height='25px', width='50%'),…"
      ]
     },
     "metadata": {},
     "output_type": "display_data"
    }
   ],
   "source": [
    "observationDayOneDf = spark.read.parquet(observationDataPathDayOne)\n",
    "observationDayTwoDf = spark.read.parquet(observationDataPathDayTwo)\n",
    "observationDf = observationDayOneDf.union(observationDayTwoDf)"
   ]
  },
  {
   "cell_type": "code",
   "execution_count": 16,
   "metadata": {},
   "outputs": [
    {
     "data": {
      "application/vnd.jupyter.widget-view+json": {
       "model_id": "a4feebb6baba4c8cae5765c6aead2ab4",
       "version_major": 2,
       "version_minor": 0
      },
      "text/plain": [
       "VBox()"
      ]
     },
     "metadata": {},
     "output_type": "display_data"
    },
    {
     "data": {
      "application/vnd.jupyter.widget-view+json": {
       "model_id": "",
       "version_major": 2,
       "version_minor": 0
      },
      "text/plain": [
       "FloatProgress(value=0.0, bar_style='info', description='Progress:', layout=Layout(height='25px', width='50%'),…"
      ]
     },
     "metadata": {},
     "output_type": "display_data"
    }
   ],
   "source": [
    "aircraftDayOneDf = spark.read.parquet(aircraftDataPathDayOne)\n",
    "aircraftDayTwoDf = spark.read.parquet(aircraftDataPathDayTwo)\n",
    "aircraftDf = aircraftDayOneDf.union(aircraftDayTwoDf)"
   ]
  },
  {
   "cell_type": "code",
   "execution_count": 17,
   "metadata": {},
   "outputs": [
    {
     "data": {
      "application/vnd.jupyter.widget-view+json": {
       "model_id": "4036d63e094b4024bf2e9311fb2fcfa3",
       "version_major": 2,
       "version_minor": 0
      },
      "text/plain": [
       "VBox()"
      ]
     },
     "metadata": {},
     "output_type": "display_data"
    },
    {
     "data": {
      "application/vnd.jupyter.widget-view+json": {
       "model_id": "",
       "version_major": 2,
       "version_minor": 0
      },
      "text/plain": [
       "FloatProgress(value=0.0, bar_style='info', description='Progress:', layout=Layout(height='25px', width='50%'),…"
      ]
     },
     "metadata": {},
     "output_type": "display_data"
    }
   ],
   "source": [
    "operatorDayOneDf = spark.read.parquet(operatorDataPathDayOne)\n",
    "operatorDayTwoDf = spark.read.parquet(operatorDataPathDayTwo)\n",
    "operatorDf = operatorDayOneDf.union(operatorDayTwoDf)"
   ]
  },
  {
   "cell_type": "markdown",
   "metadata": {},
   "source": [
    "<h5>1. Number of observations by aircraft</h5>"
   ]
  },
  {
   "cell_type": "code",
   "execution_count": 18,
   "metadata": {},
   "outputs": [
    {
     "data": {
      "application/vnd.jupyter.widget-view+json": {
       "model_id": "5d9fe17edf5943b8acad782ad387ad7b",
       "version_major": 2,
       "version_minor": 0
      },
      "text/plain": [
       "VBox()"
      ]
     },
     "metadata": {},
     "output_type": "display_data"
    },
    {
     "data": {
      "application/vnd.jupyter.widget-view+json": {
       "model_id": "",
       "version_major": 2,
       "version_minor": 0
      },
      "text/plain": [
       "FloatProgress(value=0.0, bar_style='info', description='Progress:', layout=Layout(height='25px', width='50%'),…"
      ]
     },
     "metadata": {},
     "output_type": "display_data"
    }
   ],
   "source": [
    "aircraftObsDf = observationDf.join(aircraftDf, on=['Icao'], how='left')"
   ]
  },
  {
   "cell_type": "code",
   "execution_count": 19,
   "metadata": {},
   "outputs": [
    {
     "data": {
      "application/vnd.jupyter.widget-view+json": {
       "model_id": "cd8e450bb1af484886bc36cdaca8e9a1",
       "version_major": 2,
       "version_minor": 0
      },
      "text/plain": [
       "VBox()"
      ]
     },
     "metadata": {},
     "output_type": "display_data"
    },
    {
     "data": {
      "application/vnd.jupyter.widget-view+json": {
       "model_id": "",
       "version_major": 2,
       "version_minor": 0
      },
      "text/plain": [
       "FloatProgress(value=0.0, bar_style='info', description='Progress:', layout=Layout(height='25px', width='50%'),…"
      ]
     },
     "metadata": {},
     "output_type": "display_data"
    },
    {
     "name": "stdout",
     "output_type": "stream",
     "text": [
      "+------+-----+\n",
      "|  Icao|count|\n",
      "+------+-----+\n",
      "|A11062|22150|\n",
      "|A16927|22150|\n",
      "|A1FFB5|22022|\n",
      "|A1F0D9|20606|\n",
      "|A26F6D|18982|\n",
      "|A0B8FB|18794|\n",
      "|ACCA19|18308|\n",
      "|A3965C|17696|\n",
      "|A7DA54|17682|\n",
      "|ABB6B5|17528|\n",
      "|A3650B|17418|\n",
      "|A37A02|17406|\n",
      "|A88CCF|16802|\n",
      "|A67883|16568|\n",
      "|A033FF|16560|\n",
      "|ADDA24|16470|\n",
      "|A89086|16146|\n",
      "|A0DDFB|16102|\n",
      "|AC10D8|15958|\n",
      "|A10BBC|15864|\n",
      "+------+-----+\n",
      "only showing top 20 rows"
     ]
    }
   ],
   "source": [
    "# 20 aircraft with the most observations\n",
    "aircraftObsDf.groupBy('Icao').count().orderBy('count', ascending=False).show()"
   ]
  },
  {
   "cell_type": "code",
   "execution_count": 20,
   "metadata": {},
   "outputs": [
    {
     "data": {
      "application/vnd.jupyter.widget-view+json": {
       "model_id": "a39990581df44358bbccc26e0e17bfdb",
       "version_major": 2,
       "version_minor": 0
      },
      "text/plain": [
       "VBox()"
      ]
     },
     "metadata": {},
     "output_type": "display_data"
    },
    {
     "data": {
      "application/vnd.jupyter.widget-view+json": {
       "model_id": "",
       "version_major": 2,
       "version_minor": 0
      },
      "text/plain": [
       "FloatProgress(value=0.0, bar_style='info', description='Progress:', layout=Layout(height='25px', width='50%'),…"
      ]
     },
     "metadata": {},
     "output_type": "display_data"
    },
    {
     "name": "stdout",
     "output_type": "stream",
     "text": [
      "16293"
     ]
    }
   ],
   "source": [
    "# number of aircraft with less than 240 observations in 2 days\n",
    "obsPerAircraft = aircraftObsDf.groupBy('Icao').count()\n",
    "obsPerAircraft.filter(obsPerAircraft['count'] < 240).count()"
   ]
  },
  {
   "cell_type": "code",
   "execution_count": 21,
   "metadata": {},
   "outputs": [
    {
     "data": {
      "application/vnd.jupyter.widget-view+json": {
       "model_id": "9324606f9b374eaca72cc8cefcc2e481",
       "version_major": 2,
       "version_minor": 0
      },
      "text/plain": [
       "VBox()"
      ]
     },
     "metadata": {},
     "output_type": "display_data"
    },
    {
     "data": {
      "application/vnd.jupyter.widget-view+json": {
       "model_id": "",
       "version_major": 2,
       "version_minor": 0
      },
      "text/plain": [
       "FloatProgress(value=0.0, bar_style='info', description='Progress:', layout=Layout(height='25px', width='50%'),…"
      ]
     },
     "metadata": {},
     "output_type": "display_data"
    },
    {
     "name": "stdout",
     "output_type": "stream",
     "text": [
      "61838"
     ]
    }
   ],
   "source": [
    "# total number of aircraft\n",
    "aircraftDf.count()"
   ]
  },
  {
   "cell_type": "code",
   "execution_count": 38,
   "metadata": {},
   "outputs": [
    {
     "data": {
      "application/vnd.jupyter.widget-view+json": {
       "model_id": "4b18293a28874ca9ac0720ad543631b2",
       "version_major": 2,
       "version_minor": 0
      },
      "text/plain": [
       "VBox()"
      ]
     },
     "metadata": {},
     "output_type": "display_data"
    },
    {
     "data": {
      "application/vnd.jupyter.widget-view+json": {
       "model_id": "",
       "version_major": 2,
       "version_minor": 0
      },
      "text/plain": [
       "FloatProgress(value=0.0, bar_style='info', description='Progress:', layout=Layout(height='25px', width='50%'),…"
      ]
     },
     "metadata": {},
     "output_type": "display_data"
    },
    {
     "name": "stdout",
     "output_type": "stream",
     "text": [
      "Collecting matplotlib\n",
      "  Downloading matplotlib-3.3.3-cp36-cp36m-manylinux1_x86_64.whl (11.6 MB)\n",
      "Collecting cycler>=0.10\n",
      "  Downloading cycler-0.10.0-py2.py3-none-any.whl (6.5 kB)\n",
      "Requirement already satisfied: six in /usr/local/lib/python3.6/site-packages (from cycler>=0.10->matplotlib) (1.13.0)\n",
      "Collecting kiwisolver>=1.0.1\n",
      "  Downloading kiwisolver-1.3.1-cp36-cp36m-manylinux1_x86_64.whl (1.1 MB)\n",
      "Collecting numpy>=1.15\n",
      "  Downloading numpy-1.19.5-cp36-cp36m-manylinux2010_x86_64.whl (14.8 MB)\n",
      "Collecting pillow>=6.2.0\n",
      "  Downloading Pillow-8.1.0-cp36-cp36m-manylinux1_x86_64.whl (2.2 MB)\n",
      "Collecting pyparsing!=2.0.4,!=2.1.2,!=2.1.6,>=2.0.3\n",
      "  Downloading pyparsing-2.4.7-py2.py3-none-any.whl (67 kB)\n",
      "Collecting python-dateutil>=2.1\n",
      "  Downloading python_dateutil-2.8.1-py2.py3-none-any.whl (227 kB)\n",
      "Installing collected packages: python-dateutil, pyparsing, pillow, numpy, kiwisolver, cycler, matplotlib\n",
      "  Attempting uninstall: numpy\n",
      "    Found existing installation: numpy 1.14.5\n",
      "    Not uninstalling numpy at /usr/local/lib64/python3.6/site-packages, outside environment /tmp/1611190330513-0\n",
      "    Can't uninstall 'numpy'. No files were found to uninstall.\n",
      "Successfully installed cycler-0.10.0 kiwisolver-1.3.1 matplotlib-3.3.3 numpy-1.19.5 pillow-8.1.0 pyparsing-2.4.7 python-dateutil-2.8.1\n",
      "\n",
      "ERROR: pip's dependency resolver does not currently take into account all the packages that are installed. This behaviour is the source of the following dependency conflicts.\n",
      "python36-sagemaker-pyspark 1.2.6 requires pyspark==2.3.2, which is not installed."
     ]
    }
   ],
   "source": [
    "sc.install_pypi_package('matplotlib')"
   ]
  },
  {
   "cell_type": "code",
   "execution_count": 55,
   "metadata": {},
   "outputs": [
    {
     "data": {
      "application/vnd.jupyter.widget-view+json": {
       "model_id": "8738472820b348349d156cfbc5309a62",
       "version_major": 2,
       "version_minor": 0
      },
      "text/plain": [
       "VBox()"
      ]
     },
     "metadata": {},
     "output_type": "display_data"
    },
    {
     "data": {
      "application/vnd.jupyter.widget-view+json": {
       "model_id": "",
       "version_major": 2,
       "version_minor": 0
      },
      "text/plain": [
       "FloatProgress(value=0.0, bar_style='info', description='Progress:', layout=Layout(height='25px', width='50%'),…"
      ]
     },
     "metadata": {},
     "output_type": "display_data"
    },
    {
     "name": "stdout",
     "output_type": "stream",
     "text": [
      "Bins:  [1.0, 2215.9, 4430.8, 6645.700000000001, 8860.6, 11075.5, 13290.400000000001, 15505.300000000001, 17720.2, 19935.100000000002, 22150]\n",
      "Counts:  [35075, 4150, 2265, 1505, 461, 169, 60, 17, 3, 4]"
     ]
    }
   ],
   "source": [
    "n = 10\n",
    "bins, counts = aircraftObsDf.groupBy('Icao').count().select(\"count\").rdd.flatMap(lambda x: x).histogram(n)\n",
    "\n",
    "print('Bins: ', bins)\n",
    "print('Counts: ', counts)"
   ]
  },
  {
   "cell_type": "code",
   "execution_count": 56,
   "metadata": {},
   "outputs": [
    {
     "data": {
      "application/vnd.jupyter.widget-view+json": {
       "model_id": "a21b7c71cdd24a77bf170c1bea6b26af",
       "version_major": 2,
       "version_minor": 0
      },
      "text/plain": [
       "VBox()"
      ]
     },
     "metadata": {},
     "output_type": "display_data"
    },
    {
     "data": {
      "application/vnd.jupyter.widget-view+json": {
       "model_id": "",
       "version_major": 2,
       "version_minor": 0
      },
      "text/plain": [
       "FloatProgress(value=0.0, bar_style='info', description='Progress:', layout=Layout(height='25px', width='50%'),…"
      ]
     },
     "metadata": {},
     "output_type": "display_data"
    },
    {
     "name": "stderr",
     "output_type": "stream",
     "text": [
      "Matplotlib requires numpy>=1.15; you have 1.14.5\n",
      "Traceback (most recent call last):\n",
      "  File \"/tmp/1611190330513-0/local/lib64/python3.6/site-packages/matplotlib/__init__.py\", line 174, in <module>\n",
      "    _check_versions()\n",
      "  File \"/tmp/1611190330513-0/local/lib64/python3.6/site-packages/matplotlib/__init__.py\", line 171, in _check_versions\n",
      "    .format(modname, minver, module.__version__))\n",
      "ImportError: Matplotlib requires numpy>=1.15; you have 1.14.5\n",
      "\n"
     ]
    }
   ],
   "source": [
    "import matplotlib.pyplot as plt\n",
    "plt.hist(bins[:-1], bins=bins, weights=counts)"
   ]
  },
  {
   "cell_type": "markdown",
   "metadata": {},
   "source": [
    "<h5>2. From and To fields</h5>"
   ]
  },
  {
   "cell_type": "code",
   "execution_count": 23,
   "metadata": {},
   "outputs": [
    {
     "data": {
      "application/vnd.jupyter.widget-view+json": {
       "model_id": "52383ba1eb17405f9d1da5584ca457f3",
       "version_major": 2,
       "version_minor": 0
      },
      "text/plain": [
       "VBox()"
      ]
     },
     "metadata": {},
     "output_type": "display_data"
    },
    {
     "data": {
      "application/vnd.jupyter.widget-view+json": {
       "model_id": "",
       "version_major": 2,
       "version_minor": 0
      },
      "text/plain": [
       "FloatProgress(value=0.0, bar_style='info', description='Progress:', layout=Layout(height='25px', width='50%'),…"
      ]
     },
     "metadata": {},
     "output_type": "display_data"
    }
   ],
   "source": [
    "# join observation and operator\n",
    "opObJoined = observationDf.join(operatorDf, on=['Icao'], how='left')"
   ]
  },
  {
   "cell_type": "code",
   "execution_count": 24,
   "metadata": {},
   "outputs": [
    {
     "data": {
      "application/vnd.jupyter.widget-view+json": {
       "model_id": "b8de68d1104c4f2f9236456453ef03a9",
       "version_major": 2,
       "version_minor": 0
      },
      "text/plain": [
       "VBox()"
      ]
     },
     "metadata": {},
     "output_type": "display_data"
    },
    {
     "data": {
      "application/vnd.jupyter.widget-view+json": {
       "model_id": "",
       "version_major": 2,
       "version_minor": 0
      },
      "text/plain": [
       "FloatProgress(value=0.0, bar_style='info', description='Progress:', layout=Layout(height='25px', width='50%'),…"
      ]
     },
     "metadata": {},
     "output_type": "display_data"
    }
   ],
   "source": [
    "keyOperators = ['Alaska Airlines', 'Southwest Airlines', 'JetBlue', 'American Airlines', 'United Airlines']"
   ]
  },
  {
   "cell_type": "code",
   "execution_count": 25,
   "metadata": {},
   "outputs": [
    {
     "data": {
      "application/vnd.jupyter.widget-view+json": {
       "model_id": "1550c58836844734935cd119e1688be7",
       "version_major": 2,
       "version_minor": 0
      },
      "text/plain": [
       "VBox()"
      ]
     },
     "metadata": {},
     "output_type": "display_data"
    },
    {
     "data": {
      "application/vnd.jupyter.widget-view+json": {
       "model_id": "",
       "version_major": 2,
       "version_minor": 0
      },
      "text/plain": [
       "FloatProgress(value=0.0, bar_style='info', description='Progress:', layout=Layout(height='25px', width='50%'),…"
      ]
     },
     "metadata": {},
     "output_type": "display_data"
    }
   ],
   "source": [
    "from pyspark.sql.functions import col\n",
    "mainAirlines = opObJoined.filter(col('Op').isin(keyOperators))"
   ]
  },
  {
   "cell_type": "code",
   "execution_count": 26,
   "metadata": {},
   "outputs": [
    {
     "data": {
      "application/vnd.jupyter.widget-view+json": {
       "model_id": "1057d6414b1b4bb2b40195e002b26fea",
       "version_major": 2,
       "version_minor": 0
      },
      "text/plain": [
       "VBox()"
      ]
     },
     "metadata": {},
     "output_type": "display_data"
    },
    {
     "data": {
      "application/vnd.jupyter.widget-view+json": {
       "model_id": "",
       "version_major": 2,
       "version_minor": 0
      },
      "text/plain": [
       "FloatProgress(value=0.0, bar_style='info', description='Progress:', layout=Layout(height='25px', width='50%'),…"
      ]
     },
     "metadata": {},
     "output_type": "display_data"
    },
    {
     "name": "stdout",
     "output_type": "stream",
     "text": [
      "+------------------+-------+\n",
      "|                Op|  count|\n",
      "+------------------+-------+\n",
      "|   United Airlines|2331135|\n",
      "| American Airlines|4322836|\n",
      "|           JetBlue|   6938|\n",
      "|   Alaska Airlines|1193859|\n",
      "|Southwest Airlines|3432734|\n",
      "+------------------+-------+"
     ]
    }
   ],
   "source": [
    "# number of observations for each airline\n",
    "mainAirlines.groupBy('Op').count().show()"
   ]
  },
  {
   "cell_type": "code",
   "execution_count": 27,
   "metadata": {},
   "outputs": [
    {
     "data": {
      "application/vnd.jupyter.widget-view+json": {
       "model_id": "7e656800e9e14f6e86059097a8d54a65",
       "version_major": 2,
       "version_minor": 0
      },
      "text/plain": [
       "VBox()"
      ]
     },
     "metadata": {},
     "output_type": "display_data"
    },
    {
     "data": {
      "application/vnd.jupyter.widget-view+json": {
       "model_id": "",
       "version_major": 2,
       "version_minor": 0
      },
      "text/plain": [
       "FloatProgress(value=0.0, bar_style='info', description='Progress:', layout=Layout(height='25px', width='50%'),…"
      ]
     },
     "metadata": {},
     "output_type": "display_data"
    },
    {
     "name": "stdout",
     "output_type": "stream",
     "text": [
      "From field fill rate:  0.8770013949942157\n",
      "To field fill rate:  0.8770013949942157"
     ]
    }
   ],
   "source": [
    "# fill rate for From and To fields\n",
    "totalObs = mainAirlines.count()\n",
    "fromFill = mainAirlines.filter(col('From') != 'null').count() / totalObs\n",
    "toFill = mainAirlines.filter(col('To') != 'null').count() / totalObs\n",
    "print('From field fill rate: ', fromFill)\n",
    "print('To field fill rate: ', toFill)"
   ]
  },
  {
   "cell_type": "code",
   "execution_count": 36,
   "metadata": {},
   "outputs": [
    {
     "data": {
      "application/vnd.jupyter.widget-view+json": {
       "model_id": "a3cd4a01aa47444284152b4d95ff7b2e",
       "version_major": 2,
       "version_minor": 0
      },
      "text/plain": [
       "VBox()"
      ]
     },
     "metadata": {},
     "output_type": "display_data"
    },
    {
     "data": {
      "application/vnd.jupyter.widget-view+json": {
       "model_id": "",
       "version_major": 2,
       "version_minor": 0
      },
      "text/plain": [
       "FloatProgress(value=0.0, bar_style='info', description='Progress:', layout=Layout(height='25px', width='50%'),…"
      ]
     },
     "metadata": {},
     "output_type": "display_data"
    },
    {
     "name": "stdout",
     "output_type": "stream",
     "text": [
      "From column:\n",
      "+------+-------------------+--------------------+----------+\n",
      "|  Icao|      time_interval|   collect_set(From)|UniqueFrom|\n",
      "+------+-------------------+--------------------+----------+\n",
      "|AA0E62|2020-10-16 22:10:00|[PHX Phoenix Sky ...|         2|\n",
      "|A4ACAE|2020-10-16 16:40:00|[DFW Dallas Fort ...|         2|\n",
      "|AAE582|2020-10-16 23:00:00|[CLT Charlotte Do...|         2|\n",
      "|A4F59C|2020-10-15 14:30:00|[DFW Dallas Fort ...|         2|\n",
      "|AB4EA8|2020-10-16 15:30:00|[PHL Philadelphia...|         2|\n",
      "|AA64CA|2020-10-15 00:00:00|[DFW Dallas Fort ...|         2|\n",
      "|AA7DAD|2020-10-15 15:50:00|[RDU Raleigh Durh...|         2|\n",
      "|AC90A7|2020-10-16 23:00:00|[DFW Dallas Fort ...|         2|\n",
      "|AD9BC8|2020-10-16 21:40:00|[CLT Charlotte Do...|         2|\n",
      "|AA1BE0|2020-10-16 22:40:00|[DFW Dallas Fort ...|         2|\n",
      "|ADC8E7|2020-10-15 14:50:00|[DFW Dallas Fort ...|         2|\n",
      "|AC7216|2020-10-15 16:40:00|[FAT Fresno Yosem...|         2|\n",
      "|A0B199|2020-10-15 14:00:00|[MDT Harrisburg, ...|         2|\n",
      "|A9034C|2020-10-16 17:20:00|[CLT Charlotte Do...|         2|\n",
      "|A1804C|2020-10-15 23:50:00|[PHX Phoenix Sky ...|         2|\n",
      "|A78A52|2020-10-15 23:50:00|[PHL Philadelphia...|         2|\n",
      "|AA7DAD|2020-10-16 14:30:00|[COS City of Colo...|         2|\n",
      "|AB2729|2020-10-15 14:40:00|[CLT Charlotte Do...|         2|\n",
      "|AB34A7|2020-10-16 14:50:00|[PIT Pittsburgh, ...|         2|\n",
      "|A0BCB2|2020-10-16 21:00:00|[DFW Dallas Fort ...|         2|\n",
      "+------+-------------------+--------------------+----------+\n",
      "only showing top 20 rows\n",
      "\n",
      "Percentage of similarily-timed observations from the same plane with multiple 'From' values:  0.0016707295320768179\n",
      "To column:\n",
      "+------+-------------------+--------------------+--------+\n",
      "|  Icao|      time_interval|     collect_set(To)|UniqueTo|\n",
      "+------+-------------------+--------------------+--------+\n",
      "|A0DDFB|2020-10-15 23:50:00|[PHL Philadelphia...|       2|\n",
      "|AA64CA|2020-10-15 00:00:00|[CLT Charlotte Do...|       2|\n",
      "|A4ACAE|2020-10-16 21:10:00|[CLT Charlotte Do...|       2|\n",
      "|A4ACAE|2020-10-16 16:40:00|[CLT Charlotte Do...|       2|\n",
      "|A0B199|2020-10-15 14:00:00|[DFW Dallas Fort ...|       2|\n",
      "|AAE582|2020-10-16 23:00:00|[TPA Tampa, Unite...|       2|\n",
      "|AD9F7F|2020-10-15 04:40:00|[CLT Charlotte Do...|       2|\n",
      "|AA35E1|2020-10-15 15:20:00|[ORD Chicago O'Ha...|       2|\n",
      "|AD9BC8|2020-10-16 21:40:00|[PHL Philadelphia...|       2|\n",
      "|A9034C|2020-10-16 17:20:00|[SMF Sacramento, ...|       2|\n",
      "|ADC17B|2020-10-15 13:10:00|[LAX Los Angeles,...|       2|\n",
      "|A78A52|2020-10-15 23:50:00|[PHX Phoenix Sky ...|       2|\n",
      "|AA7DAD|2020-10-15 15:50:00|[RDU Raleigh Durh...|       2|\n",
      "|AA0E62|2020-10-16 22:10:00|[PHX Phoenix Sky ...|       2|\n",
      "|AA5237|2020-10-15 23:40:00|[RIC Richmond, Un...|       2|\n",
      "|AC7216|2020-10-15 16:40:00|[DFW Dallas Fort ...|       2|\n",
      "|AA1BE0|2020-10-16 22:40:00|[RDU Raleigh Durh...|       2|\n",
      "|AB2729|2020-10-15 14:40:00|[DFW Dallas Fort ...|       2|\n",
      "|AC90A7|2020-10-16 23:00:00|[GYE Simon Boliva...|       2|\n",
      "|AB4EA8|2020-10-16 15:30:00|[NAS Lynden Pindl...|       2|\n",
      "+------+-------------------+--------------------+--------+\n",
      "only showing top 20 rows\n",
      "\n",
      "Percentage of similarily-timed observations from the same plane with multiple 'To' values:  0.0015458707414233903"
     ]
    }
   ],
   "source": [
    "# consistency check for aircraft observations \"close in time\" (we will use a time interval of +- 10 minutes)\n",
    "from pyspark.sql import functions as F\n",
    "import pyspark.sql.functions\n",
    "\n",
    "interval = 60 * 10    # 10 minutes\n",
    "timeDf = mainAirlines.withColumn(\n",
    "    'time_interval',\n",
    "    pyspark.sql.functions.from_unixtime(pyspark.sql.functions.floor(pyspark.sql.functions.unix_timestamp(mainAirlines['PosTime']) / interval) * interval)\n",
    ")\n",
    "\n",
    "print('From column:')\n",
    "uniqueFroms = timeDf.groupBy(['Icao', 'time_interval']).agg(F.collect_set('From')).withColumn('UniqueFrom', F.size('collect_set(From)')).orderBy('UniqueFrom', ascending=False).filter(col('time_interval') != 'null')\n",
    "uniqueFroms.show()\n",
    "multipleFroms = uniqueFroms.filter(col('UniqueFrom') > 1).count() / uniqueFroms.count()\n",
    "print('Percentage of similarily-timed observations from the same plane with multiple \\'From\\' values: ', multipleFroms)\n",
    "\n",
    "print('To column:')\n",
    "uniqueTos = timeDf.groupBy(['Icao', 'time_interval']).agg(F.collect_set('To')).withColumn('UniqueTo', F.size('collect_set(To)')).orderBy('UniqueTo', ascending=False).filter(col('time_interval') != 'null')\n",
    "uniqueTos.show()\n",
    "multipleTos = uniqueTos.filter(col('UniqueTo') > 1).count() / uniqueTos.count()\n",
    "print('Percentage of similarily-timed observations from the same plane with multiple \\'To\\' values: ', multipleTos)"
   ]
  },
  {
   "cell_type": "markdown",
   "metadata": {},
   "source": [
    "<h5>3. Aircraft attributes</h5>"
   ]
  },
  {
   "cell_type": "code",
   "execution_count": 29,
   "metadata": {},
   "outputs": [
    {
     "data": {
      "application/vnd.jupyter.widget-view+json": {
       "model_id": "bb715026355e4297b753db2b5776add8",
       "version_major": 2,
       "version_minor": 0
      },
      "text/plain": [
       "VBox()"
      ]
     },
     "metadata": {},
     "output_type": "display_data"
    },
    {
     "data": {
      "application/vnd.jupyter.widget-view+json": {
       "model_id": "",
       "version_major": 2,
       "version_minor": 0
      },
      "text/plain": [
       "FloatProgress(value=0.0, bar_style='info', description='Progress:', layout=Layout(height='25px', width='50%'),…"
      ]
     },
     "metadata": {},
     "output_type": "display_data"
    }
   ],
   "source": [
    "db_lookup_attributes = ['Species', 'Mil', 'Cou', 'Type']"
   ]
  },
  {
   "cell_type": "code",
   "execution_count": 30,
   "metadata": {},
   "outputs": [
    {
     "data": {
      "application/vnd.jupyter.widget-view+json": {
       "model_id": "19d8406e584744789784f6ec31fe82c5",
       "version_major": 2,
       "version_minor": 0
      },
      "text/plain": [
       "VBox()"
      ]
     },
     "metadata": {},
     "output_type": "display_data"
    },
    {
     "data": {
      "application/vnd.jupyter.widget-view+json": {
       "model_id": "",
       "version_major": 2,
       "version_minor": 0
      },
      "text/plain": [
       "FloatProgress(value=0.0, bar_style='info', description='Progress:', layout=Layout(height='25px', width='50%'),…"
      ]
     },
     "metadata": {},
     "output_type": "display_data"
    },
    {
     "name": "stdout",
     "output_type": "stream",
     "text": [
      "Species fill rate: \n",
      "0.9925651663329473\n",
      "Mil fill rate: \n",
      "1.0\n",
      "Cou fill rate: \n",
      "1.0\n",
      "Type fill rate: \n",
      "0.996097283534554"
     ]
    }
   ],
   "source": [
    "# fill rate calculation is different for each data type\n",
    "numObs = aircraftObsDf.count()\n",
    "\n",
    "print('Species fill rate: ') \n",
    "print(aircraftObsDf.filter(col('Species') != 0).count() / numObs)\n",
    "\n",
    "print('Mil fill rate: ')\n",
    "nonNullMil = aircraftObsDf.filter(col('Mil') == True).count() + aircraftObsDf.filter(col('Mil') == False).count()\n",
    "print(nonNullMil / numObs)\n",
    "\n",
    "print('Cou fill rate: ')\n",
    "print(aircraftObsDf.filter(col('Cou') != 'null').count() / numObs)\n",
    "\n",
    "print('Type fill rate: ')\n",
    "print(aircraftObsDf.filter(col('Type') != 'null').count() / numObs)"
   ]
  },
  {
   "cell_type": "code",
   "execution_count": 31,
   "metadata": {},
   "outputs": [
    {
     "data": {
      "application/vnd.jupyter.widget-view+json": {
       "model_id": "dda22b9dbaad4f81bd3a3dc702940f31",
       "version_major": 2,
       "version_minor": 0
      },
      "text/plain": [
       "VBox()"
      ]
     },
     "metadata": {},
     "output_type": "display_data"
    },
    {
     "data": {
      "application/vnd.jupyter.widget-view+json": {
       "model_id": "",
       "version_major": 2,
       "version_minor": 0
      },
      "text/plain": [
       "FloatProgress(value=0.0, bar_style='info', description='Progress:', layout=Layout(height='25px', width='50%'),…"
      ]
     },
     "metadata": {},
     "output_type": "display_data"
    },
    {
     "name": "stdout",
     "output_type": "stream",
     "text": [
      "Species unique values per flight:\n",
      "+------+--------------------+-------------+\n",
      "|  Icao|collect_set(Species)|UniqueSpecies|\n",
      "+------+--------------------+-------------+\n",
      "|A003F0|                 [1]|            1|\n",
      "|A01C13|                 [1]|            1|\n",
      "|A01E18|                 [1]|            1|\n",
      "|A0267E|                 [4]|            1|\n",
      "|A027AF|                 [1]|            1|\n",
      "|A0522B|                 [1]|            1|\n",
      "|A05283|                 [1]|            1|\n",
      "|A05514|                 [1]|            1|\n",
      "|A05553|                 [1]|            1|\n",
      "|A05DC8|                 [1]|            1|\n",
      "|A05FCD|                 [1]|            1|\n",
      "|A06048|                 [1]|            1|\n",
      "|A064C8|                 [1]|            1|\n",
      "|A066AA|                 [1]|            1|\n",
      "|A07485|                 [1]|            1|\n",
      "|A07898|                 [1]|            1|\n",
      "|A0808D|                 [1]|            1|\n",
      "|A08812|                 [1]|            1|\n",
      "|A08EEC|                 [4]|            1|\n",
      "|A08EF0|                 [4]|            1|\n",
      "+------+--------------------+-------------+\n",
      "only showing top 20 rows\n",
      "\n",
      "Percentage of planes with multiple Species values: 0.0\n",
      "Mil unique values per flight:\n",
      "+------+----------------+---------+\n",
      "|  Icao|collect_set(Mil)|UniqueMil|\n",
      "+------+----------------+---------+\n",
      "|A00042|         [false]|        1|\n",
      "|A009F4|         [false]|        1|\n",
      "|A00D30|         [false]|        1|\n",
      "|A01097|         [false]|        1|\n",
      "|A01EC0|         [false]|        1|\n",
      "|A029F6|         [false]|        1|\n",
      "|A03398|         [false]|        1|\n",
      "|A03CF4|         [false]|        1|\n",
      "|A04629|         [false]|        1|\n",
      "|A04DAF|         [false]|        1|\n",
      "|A04F44|         [false]|        1|\n",
      "|A065A0|         [false]|        1|\n",
      "|A0855D|         [false]|        1|\n",
      "|A0862A|         [false]|        1|\n",
      "|A08B21|         [false]|        1|\n",
      "|A08F69|         [false]|        1|\n",
      "|A0A528|         [false]|        1|\n",
      "|A0A601|         [false]|        1|\n",
      "|A0B52E|         [false]|        1|\n",
      "|A0C3E0|         [false]|        1|\n",
      "+------+----------------+---------+\n",
      "only showing top 20 rows\n",
      "\n",
      "Percentage of planes with multiple Mil values: 0.0\n",
      "Cou unique values per flight:\n",
      "+------+----------------+---------+\n",
      "|  Icao|collect_set(Cou)|UniqueCou|\n",
      "+------+----------------+---------+\n",
      "|A00042| [United States]|        1|\n",
      "|A009F4| [United States]|        1|\n",
      "|A00D30| [United States]|        1|\n",
      "|A01097| [United States]|        1|\n",
      "|A01EC0| [United States]|        1|\n",
      "|A029F6| [United States]|        1|\n",
      "|A03398| [United States]|        1|\n",
      "|A03CF4| [United States]|        1|\n",
      "|A04629| [United States]|        1|\n",
      "|A04DAF| [United States]|        1|\n",
      "|A04F44| [United States]|        1|\n",
      "|A065A0| [United States]|        1|\n",
      "|A0855D| [United States]|        1|\n",
      "|A0862A| [United States]|        1|\n",
      "|A08B21| [United States]|        1|\n",
      "|A08F69| [United States]|        1|\n",
      "|A0A528| [United States]|        1|\n",
      "|A0A601| [United States]|        1|\n",
      "|A0B52E| [United States]|        1|\n",
      "|A0C3E0| [United States]|        1|\n",
      "+------+----------------+---------+\n",
      "only showing top 20 rows\n",
      "\n",
      "Percentage of planes with multiple Cou values: 0.0\n",
      "Type unique values per flight:\n",
      "+------+-----------------+----------+\n",
      "|  Icao|collect_set(Type)|UniqueType|\n",
      "+------+-----------------+----------+\n",
      "|A00084|           [GLEX]|         1|\n",
      "|A00938|           [PC12]|         1|\n",
      "|A00978|           [C172]|         1|\n",
      "|A00C7D|           [C551]|         1|\n",
      "|A00EC6|           [C185]|         1|\n",
      "|A0266D|           [BE99]|         1|\n",
      "|A02CB5|           [B763]|         1|\n",
      "|A05434|           [B763]|         1|\n",
      "|A05620|           [M20P]|         1|\n",
      "|A05882|           [BE9L]|         1|\n",
      "|A05EC5|           [PA34]|         1|\n",
      "|A07201|           [GLF6]|         1|\n",
      "|A07DAA|           [C172]|         1|\n",
      "|A07F1E|           [SR20]|         1|\n",
      "|A081EF|            [S76]|         1|\n",
      "|A082BB|           [P28A]|         1|\n",
      "|A09852|           [B737]|         1|\n",
      "|A09D14|           [C172]|         1|\n",
      "|A0A919|           [C172]|         1|\n",
      "|A0AE57|           [B763]|         1|\n",
      "+------+-----------------+----------+\n",
      "only showing top 20 rows\n",
      "\n",
      "Percentage of planes with multiple Type values: 0.0"
     ]
    }
   ],
   "source": [
    "from pyspark.sql import functions as F\n",
    "from pyspark.sql.functions import size\n",
    "\n",
    "# for each attribute, report number of unique values for each plane\n",
    "for attribute in db_lookup_attributes:\n",
    "    print(attribute, 'unique values per flight:')\n",
    "    \n",
    "    colName = 'Unique{}'.format(attribute)\n",
    "    generatedColName = 'collect_set({})'.format(attribute)\n",
    "    uniqueValues = aircraftDf.groupBy('Icao').agg(F.collect_set(attribute)).withColumn(colName, F.size(generatedColName)).orderBy(colName, ascending=False)\n",
    "    \n",
    "    # special case - species, need to filter out values of 0\n",
    "    if attribute == 'Species':\n",
    "        uniqueValues = aircraftDf.filter(col(attribute) != 0).groupBy('Icao').agg(F.collect_set(attribute)).withColumn(colName, F.size(generatedColName)).orderBy(colName, ascending=False)\n",
    "    uniqueValues.show()\n",
    "    multipleValues = uniqueValues.filter(col(colName) > 1).count() / uniqueValues.count()\n",
    "    print('Percentage of planes with multiple {} values: {}'.format(attribute, multipleValues))"
   ]
  },
  {
   "cell_type": "markdown",
   "metadata": {},
   "source": [
    "<h5>4. Aircraft to operator</h5>"
   ]
  },
  {
   "cell_type": "code",
   "execution_count": 32,
   "metadata": {},
   "outputs": [
    {
     "data": {
      "application/vnd.jupyter.widget-view+json": {
       "model_id": "d4924c364c3b4f38a84fddf86d49c97d",
       "version_major": 2,
       "version_minor": 0
      },
      "text/plain": [
       "VBox()"
      ]
     },
     "metadata": {},
     "output_type": "display_data"
    },
    {
     "data": {
      "application/vnd.jupyter.widget-view+json": {
       "model_id": "",
       "version_major": 2,
       "version_minor": 0
      },
      "text/plain": [
       "FloatProgress(value=0.0, bar_style='info', description='Progress:', layout=Layout(height='25px', width='50%'),…"
      ]
     },
     "metadata": {},
     "output_type": "display_data"
    }
   ],
   "source": [
    "db_lookup_attributes2 = ['Op', 'OpIcao']"
   ]
  },
  {
   "cell_type": "code",
   "execution_count": 33,
   "metadata": {},
   "outputs": [
    {
     "data": {
      "application/vnd.jupyter.widget-view+json": {
       "model_id": "d5df54e049e44f918668c99e757fcae7",
       "version_major": 2,
       "version_minor": 0
      },
      "text/plain": [
       "VBox()"
      ]
     },
     "metadata": {},
     "output_type": "display_data"
    },
    {
     "data": {
      "application/vnd.jupyter.widget-view+json": {
       "model_id": "",
       "version_major": 2,
       "version_minor": 0
      },
      "text/plain": [
       "FloatProgress(value=0.0, bar_style='info', description='Progress:', layout=Layout(height='25px', width='50%'),…"
      ]
     },
     "metadata": {},
     "output_type": "display_data"
    }
   ],
   "source": [
    "# join aircraft and operator on ICAO\n",
    "airOpJoined = aircraftDf.join(operatorDf, on=['Icao'], how='left')"
   ]
  },
  {
   "cell_type": "code",
   "execution_count": 34,
   "metadata": {},
   "outputs": [
    {
     "data": {
      "application/vnd.jupyter.widget-view+json": {
       "model_id": "b1ae7507c08245b6b2860378eb967163",
       "version_major": 2,
       "version_minor": 0
      },
      "text/plain": [
       "VBox()"
      ]
     },
     "metadata": {},
     "output_type": "display_data"
    },
    {
     "data": {
      "application/vnd.jupyter.widget-view+json": {
       "model_id": "",
       "version_major": 2,
       "version_minor": 0
      },
      "text/plain": [
       "FloatProgress(value=0.0, bar_style='info', description='Progress:', layout=Layout(height='25px', width='50%'),…"
      ]
     },
     "metadata": {},
     "output_type": "display_data"
    },
    {
     "name": "stdout",
     "output_type": "stream",
     "text": [
      "+------+-------+-----+-------------+----+--------------------+------+\n",
      "|  Icao|Species|  Mil|          Cou|Type|                  Op|OpIcao|\n",
      "+------+-------+-----+-------------+----+--------------------+------+\n",
      "|A2D382|      1|false|United States|MD11|United Parcel Ser...|   UPS|\n",
      "|A2D382|      1|false|United States|MD11|United Parcel Ser...|   UPS|\n",
      "|A3E584|      1|false|United States|CL35|           TWAPA Inc|  null|\n",
      "|A03C7E|      1|false|United States|GL5T|             NetJets|   EJA|\n",
      "|A03C7E|      1|false|United States|GL5T|             NetJets|   EJA|\n",
      "|A79CF4|      1|false|United States|C172|             Private|  null|\n",
      "|A79CF4|      1|false|United States|C172|             Private|  null|\n",
      "|ABADC0|      1|false|United States|B738|  Southwest Airlines|   SWA|\n",
      "|ABADC0|      1|false|United States|B738|  Southwest Airlines|   SWA|\n",
      "|A6B7EC|      1|false|United States|B738|     Alaska Airlines|   ASA|\n",
      "|A6B7EC|      1|false|United States|B738|     Alaska Airlines|   ASA|\n",
      "|A08F6A|      1|false|United States|E135|Ultimate Jet Char...|  null|\n",
      "|A08F6A|      1|false|United States|E135|Ultimate Jet Char...|  null|\n",
      "|A80CF8|      1|false|United States|MD11|               FedEx|   FDX|\n",
      "|A80CF8|      1|false|United States|MD11|               FedEx|   FDX|\n",
      "|AA3F6B|      1|false|United States|LJ35|KALITTA CHARTERS ...|   USC|\n",
      "|A096B5|      1|false|United States|BE20|Velocity One Avia...|  null|\n",
      "|A0665B|      1|false|United States|B190|Alaska Central Ex...|   AER|\n",
      "|A4C6D7|      4|false|United States|B407|Contra Costa Coun...|  null|\n",
      "|A4C6D7|      4|false|United States|B407|Contra Costa Coun...|  null|\n",
      "+------+-------+-----+-------------+----+--------------------+------+\n",
      "only showing top 20 rows"
     ]
    }
   ],
   "source": [
    "airOpJoined.show()"
   ]
  },
  {
   "cell_type": "code",
   "execution_count": 35,
   "metadata": {},
   "outputs": [
    {
     "data": {
      "application/vnd.jupyter.widget-view+json": {
       "model_id": "7340da0d10a04ec3a385388c4168d388",
       "version_major": 2,
       "version_minor": 0
      },
      "text/plain": [
       "VBox()"
      ]
     },
     "metadata": {},
     "output_type": "display_data"
    },
    {
     "data": {
      "application/vnd.jupyter.widget-view+json": {
       "model_id": "",
       "version_major": 2,
       "version_minor": 0
      },
      "text/plain": [
       "FloatProgress(value=0.0, bar_style='info', description='Progress:', layout=Layout(height='25px', width='50%'),…"
      ]
     },
     "metadata": {},
     "output_type": "display_data"
    },
    {
     "name": "stdout",
     "output_type": "stream",
     "text": [
      "Attribute:  Op\n",
      "Fill rate:  0.9999482112153792\n",
      "+------+--------------------+--------+\n",
      "|  Icao|     collect_set(Op)|UniqueOp|\n",
      "+------+--------------------+--------+\n",
      "|A0026E|[AUBURN UNIVERSIT...|       1|\n",
      "|A01EE6|[San Diego County...|       1|\n",
      "|A02FFF|[MCDANIEL TRENTON...|       1|\n",
      "|A03F75|           [Private]|       1|\n",
      "|A03F84| [Republic Airlines]|       1|\n",
      "|A0492E|[PERFORMANCE BY D...|       1|\n",
      "|A05D05|[KENNEDY VIRGIL C...|       1|\n",
      "|A05EDF|[Airbus Helicopte...|       1|\n",
      "|A062CC|[N124CM LLC     -...|       1|\n",
      "|A07ECC|[BRODIE JAMES W  ...|       1|\n",
      "|A095B4|             [FedEx]|       1|\n",
      "|A09977|[IRF ASSOCIATES L...|       1|\n",
      "|A0A21A|[MILAM EQUIPMENT ...|       1|\n",
      "|A0C963|[CLINKSCALES RADI...|       1|\n",
      "|A0CCAB|[SCHAUS RICHARD M...|       1|\n",
      "|A0CF0E|        [Ken Wagner]|       1|\n",
      "|A0EFDF|[L-3 Communicatio...|       1|\n",
      "|A0FCD6|[WELLS FARGO BANK...|       1|\n",
      "|A101C3| [American Airlines]|       1|\n",
      "|A11AD4|  [SkyWest Airlines]|       1|\n",
      "+------+--------------------+--------+\n",
      "only showing top 20 rows\n",
      "\n",
      "Percentage of planes with multiple Op values: 0.0\n",
      "Attribute:  OpIcao\n",
      "Fill rate:  0.27742216145671494\n",
      "+------+-------------------+------------+\n",
      "|  Icao|collect_set(OpIcao)|UniqueOpIcao|\n",
      "+------+-------------------+------------+\n",
      "|A24A33|              [AMF]|           1|\n",
      "|AB0416|              [JBU]|           1|\n",
      "|A24A53|              [AMF]|           1|\n",
      "|A6C88A|              [DAL]|           1|\n",
      "|A7425A|              [EJA]|           1|\n",
      "|A106FD|              [VTE]|           1|\n",
      "|A7A59F|              [JBU]|           1|\n",
      "|A3778E|              [UPS]|           1|\n",
      "|A7C748|              [CYO]|           1|\n",
      "|A4B9C7|              [SWA]|           1|\n",
      "|A95FEF|              [CKS]|           1|\n",
      "|A535C6|              [AWI]|           1|\n",
      "|A967C9|              [SOO]|           1|\n",
      "|A58D6A|              [PHM]|           1|\n",
      "|A9848A|              [TWY]|           1|\n",
      "|A25B3F|              [ASA]|           1|\n",
      "|AA9220|              [SKW]|           1|\n",
      "|A51D7E|              [EMD]|           1|\n",
      "|AA9B82|              [UAL]|           1|\n",
      "|AA9F3F|              [SWA]|           1|\n",
      "+------+-------------------+------------+\n",
      "only showing top 20 rows\n",
      "\n",
      "Percentage of planes with multiple OpIcao values: 0.0"
     ]
    }
   ],
   "source": [
    "for attribute in db_lookup_attributes2:\n",
    "    print('Attribute: ', attribute)\n",
    "    fillRate = airOpJoined.filter(col(attribute) != 'null').count() / airOpJoined.count()\n",
    "    print('Fill rate: ', fillRate)\n",
    "    \n",
    "    colName = 'Unique{}'.format(attribute)\n",
    "    generatedColName = 'collect_set({})'.format(attribute)\n",
    "    uniqueValues = airOpJoined.groupBy('Icao').agg(F.collect_set(attribute)).withColumn(colName, F.size(generatedColName)).orderBy(colName, ascending=False)\n",
    "    uniqueValues.show()\n",
    "    \n",
    "    multipleValues = uniqueValues.filter(col(colName) > 1).count() / uniqueValues.count()\n",
    "    print('Percentage of planes with multiple {} values: {}'.format(attribute, multipleValues))"
   ]
  }
 ],
 "metadata": {
  "kernelspec": {
   "display_name": "PySpark",
   "language": "",
   "name": "pysparkkernel"
  },
  "language_info": {
   "codemirror_mode": {
    "name": "python",
    "version": 2
   },
   "mimetype": "text/x-python",
   "name": "pyspark",
   "pygments_lexer": "python2"
  }
 },
 "nbformat": 4,
 "nbformat_minor": 4
}
