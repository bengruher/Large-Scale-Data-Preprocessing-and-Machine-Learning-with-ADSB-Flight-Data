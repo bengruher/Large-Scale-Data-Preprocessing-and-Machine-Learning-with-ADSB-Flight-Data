{
 "cells": [
  {
   "cell_type": "markdown",
   "metadata": {},
   "source": [
    "<h1>Lab 3 - Flight abstractions</h1>\n",
    "<h4>Ben Gruher</h4>"
   ]
  },
  {
   "cell_type": "code",
   "execution_count": 1,
   "metadata": {},
   "outputs": [
    {
     "data": {
      "application/vnd.jupyter.widget-view+json": {
       "model_id": "f455af68c7554ad49f1440eb9f4b9ff9",
       "version_major": 2,
       "version_minor": 0
      },
      "text/plain": [
       "VBox()"
      ]
     },
     "metadata": {},
     "output_type": "display_data"
    },
    {
     "name": "stdout",
     "output_type": "stream",
     "text": [
      "Starting Spark application\n"
     ]
    },
    {
     "data": {
      "text/html": [
       "<table>\n",
       "<tr><th>ID</th><th>YARN Application ID</th><th>Kind</th><th>State</th><th>Spark UI</th><th>Driver log</th><th>Current session?</th></tr><tr><td>0</td><td>application_1612725409117_0001</td><td>pyspark</td><td>idle</td><td><a target=\"_blank\" href=\"http://ip-172-31-34-237.us-west-2.compute.internal:20888/proxy/application_1612725409117_0001/\">Link</a></td><td><a target=\"_blank\" href=\"http://ip-172-31-37-33.us-west-2.compute.internal:8042/node/containerlogs/container_1612725409117_0001_01_000001/livy\">Link</a></td><td>✔</td></tr></table>"
      ],
      "text/plain": [
       "<IPython.core.display.HTML object>"
      ]
     },
     "metadata": {},
     "output_type": "display_data"
    },
    {
     "data": {
      "application/vnd.jupyter.widget-view+json": {
       "model_id": "",
       "version_major": 2,
       "version_minor": 0
      },
      "text/plain": [
       "FloatProgress(value=0.0, bar_style='info', description='Progress:', layout=Layout(height='25px', width='50%'),…"
      ]
     },
     "metadata": {},
     "output_type": "display_data"
    },
    {
     "name": "stdout",
     "output_type": "stream",
     "text": [
      "SparkSession available as 'spark'.\n"
     ]
    },
    {
     "data": {
      "application/vnd.jupyter.widget-view+json": {
       "model_id": "",
       "version_major": 2,
       "version_minor": 0
      },
      "text/plain": [
       "FloatProgress(value=0.0, bar_style='info', description='Progress:', layout=Layout(height='25px', width='50%'),…"
      ]
     },
     "metadata": {},
     "output_type": "display_data"
    },
    {
     "name": "stdout",
     "output_type": "stream",
     "text": [
      "<SparkContext master=yarn appName=livy-session-0>"
     ]
    }
   ],
   "source": [
    "sc"
   ]
  },
  {
   "cell_type": "markdown",
   "metadata": {},
   "source": [
    "<h4>Libraries and constants</h4>"
   ]
  },
  {
   "cell_type": "code",
   "execution_count": 4,
   "metadata": {},
   "outputs": [
    {
     "data": {
      "application/vnd.jupyter.widget-view+json": {
       "model_id": "09deefb5cadf4389b25062d25fc5fa81",
       "version_major": 2,
       "version_minor": 0
      },
      "text/plain": [
       "VBox()"
      ]
     },
     "metadata": {},
     "output_type": "display_data"
    },
    {
     "data": {
      "application/vnd.jupyter.widget-view+json": {
       "model_id": "",
       "version_major": 2,
       "version_minor": 0
      },
      "text/plain": [
       "FloatProgress(value=0.0, bar_style='info', description='Progress:', layout=Layout(height='25px', width='50%'),…"
      ]
     },
     "metadata": {},
     "output_type": "display_data"
    },
    {
     "name": "stdout",
     "output_type": "stream",
     "text": [
      "Collecting pandas==0.25.1\n",
      "  Downloading pandas-0.25.1-cp36-cp36m-manylinux1_x86_64.whl (10.5 MB)\n",
      "Collecting python-dateutil>=2.6.1\n",
      "  Downloading python_dateutil-2.8.1-py2.py3-none-any.whl (227 kB)\n",
      "Requirement already satisfied: numpy>=1.13.3 in /usr/local/lib64/python3.6/site-packages (from pandas==0.25.1) (1.14.5)\n",
      "Requirement already satisfied: pytz>=2017.2 in /usr/local/lib/python3.6/site-packages (from pandas==0.25.1) (2019.3)\n",
      "Requirement already satisfied: six>=1.5 in /usr/local/lib/python3.6/site-packages (from python-dateutil>=2.6.1->pandas==0.25.1) (1.13.0)\n",
      "Installing collected packages: python-dateutil, pandas\n",
      "Successfully installed pandas-0.25.1 python-dateutil-2.8.1"
     ]
    }
   ],
   "source": [
    "sc.install_pypi_package(\"pandas==0.25.1\") #Install pandas version 0.25.1 "
   ]
  },
  {
   "cell_type": "code",
   "execution_count": 3,
   "metadata": {},
   "outputs": [
    {
     "data": {
      "application/vnd.jupyter.widget-view+json": {
       "model_id": "770121978af64486b7ae8f5baa131ec6",
       "version_major": 2,
       "version_minor": 0
      },
      "text/plain": [
       "VBox()"
      ]
     },
     "metadata": {},
     "output_type": "display_data"
    },
    {
     "data": {
      "application/vnd.jupyter.widget-view+json": {
       "model_id": "",
       "version_major": 2,
       "version_minor": 0
      },
      "text/plain": [
       "FloatProgress(value=0.0, bar_style='info', description='Progress:', layout=Layout(height='25px', width='50%'),…"
      ]
     },
     "metadata": {},
     "output_type": "display_data"
    },
    {
     "name": "stdout",
     "output_type": "stream",
     "text": [
      "Collecting scipy\n",
      "  Downloading scipy-1.5.4-cp36-cp36m-manylinux1_x86_64.whl (25.9 MB)\n",
      "Requirement already satisfied: numpy>=1.14.5 in /usr/local/lib64/python3.6/site-packages (from scipy) (1.14.5)\n",
      "Installing collected packages: scipy\n",
      "Successfully installed scipy-1.5.4"
     ]
    }
   ],
   "source": [
    "sc.install_pypi_package('scipy')"
   ]
  },
  {
   "cell_type": "code",
   "execution_count": 5,
   "metadata": {},
   "outputs": [
    {
     "data": {
      "application/vnd.jupyter.widget-view+json": {
       "model_id": "419589ba593d4fa6baa51413142004c9",
       "version_major": 2,
       "version_minor": 0
      },
      "text/plain": [
       "VBox()"
      ]
     },
     "metadata": {},
     "output_type": "display_data"
    },
    {
     "data": {
      "application/vnd.jupyter.widget-view+json": {
       "model_id": "",
       "version_major": 2,
       "version_minor": 0
      },
      "text/plain": [
       "FloatProgress(value=0.0, bar_style='info', description='Progress:', layout=Layout(height='25px', width='50%'),…"
      ]
     },
     "metadata": {},
     "output_type": "display_data"
    },
    {
     "name": "stderr",
     "output_type": "stream",
     "text": [
      "No module named 'scipy'\n",
      "Traceback (most recent call last):\n",
      "ModuleNotFoundError: No module named 'scipy'\n",
      "\n"
     ]
    }
   ],
   "source": [
    "from pyspark.sql.functions import col\n",
    "from pyspark.sql import functions as F\n",
    "from pyspark.sql.functions import udf\n",
    "import math\n",
    "import pandas as pd\n",
    "from scipy import spatial"
   ]
  },
  {
   "cell_type": "code",
   "execution_count": 2,
   "metadata": {},
   "outputs": [
    {
     "data": {
      "application/vnd.jupyter.widget-view+json": {
       "model_id": "f71a856ee715406783f1c877aab4d9c1",
       "version_major": 2,
       "version_minor": 0
      },
      "text/plain": [
       "VBox()"
      ]
     },
     "metadata": {},
     "output_type": "display_data"
    },
    {
     "data": {
      "application/vnd.jupyter.widget-view+json": {
       "model_id": "",
       "version_major": 2,
       "version_minor": 0
      },
      "text/plain": [
       "FloatProgress(value=0.0, bar_style='info', description='Progress:', layout=Layout(height='25px', width='50%'),…"
      ]
     },
     "metadata": {},
     "output_type": "display_data"
    }
   ],
   "source": [
    "day = '2020-10-18'\n",
    "nextDay = '2020-10-19'\n",
    "S3InputPath = 's3://<BUCKET_NAME>/{}/*'.format(day)\n",
    "nextDayS3InputPath = 's3://<BUCKET_NAME>/{}/*'.format(nextDay)\n",
    "S3OutputPath = 's3://<BUCKET_NAME>/gruherb/flights/{}/'.format(day)\n",
    "AIRPORT_DB_LOC = 's3://<BUCKET_NAME>/GlobalAirportDatabase.csv'"
   ]
  },
  {
   "cell_type": "code",
   "execution_count": 6,
   "metadata": {},
   "outputs": [
    {
     "data": {
      "application/vnd.jupyter.widget-view+json": {
       "model_id": "881e104fba554ae9b8ad744b38052925",
       "version_major": 2,
       "version_minor": 0
      },
      "text/plain": [
       "VBox()"
      ]
     },
     "metadata": {},
     "output_type": "display_data"
    },
    {
     "data": {
      "application/vnd.jupyter.widget-view+json": {
       "model_id": "",
       "version_major": 2,
       "version_minor": 0
      },
      "text/plain": [
       "FloatProgress(value=0.0, bar_style='info', description='Progress:', layout=Layout(height='25px', width='50%'),…"
      ]
     },
     "metadata": {},
     "output_type": "display_data"
    }
   ],
   "source": [
    "from pyspark.sql.types import *\n",
    "\n",
    "airports_schema = \\\n",
    "    StructType([\n",
    "        StructField('Code', StringType(), True),\n",
    "        StructField('Name', StringType(), True),\n",
    "        StructField('City', StringType(), True),\n",
    "        StructField('Distance', FloatType(), True)\n",
    "    ])"
   ]
  },
  {
   "cell_type": "code",
   "execution_count": 7,
   "metadata": {},
   "outputs": [
    {
     "data": {
      "application/vnd.jupyter.widget-view+json": {
       "model_id": "3dfb59eaad3549fcb1e253c9d8b11eeb",
       "version_major": 2,
       "version_minor": 0
      },
      "text/plain": [
       "VBox()"
      ]
     },
     "metadata": {},
     "output_type": "display_data"
    },
    {
     "data": {
      "application/vnd.jupyter.widget-view+json": {
       "model_id": "",
       "version_major": 2,
       "version_minor": 0
      },
      "text/plain": [
       "FloatProgress(value=0.0, bar_style='info', description='Progress:', layout=Layout(height='25px', width='50%'),…"
      ]
     },
     "metadata": {},
     "output_type": "display_data"
    }
   ],
   "source": [
    "flight_schema = StructType(\n",
    "    [\n",
    "        StructField('AircraftIcao', StringType(), False),\n",
    "        StructField('Operator', StringType(), True),\n",
    "        StructField('From', airports_schema, True),\n",
    "        StructField('To', airports_schema, True),\n",
    "        StructField('DepartedAt', TimestampType(), True),\n",
    "        StructField('ArrivedAt', TimestampType(), True)\n",
    "    ]\n",
    ")"
   ]
  },
  {
   "cell_type": "code",
   "execution_count": 8,
   "metadata": {},
   "outputs": [
    {
     "data": {
      "application/vnd.jupyter.widget-view+json": {
       "model_id": "8f9d97e4734f4697a5611157f05a15e9",
       "version_major": 2,
       "version_minor": 0
      },
      "text/plain": [
       "VBox()"
      ]
     },
     "metadata": {},
     "output_type": "display_data"
    },
    {
     "data": {
      "application/vnd.jupyter.widget-view+json": {
       "model_id": "",
       "version_major": 2,
       "version_minor": 0
      },
      "text/plain": [
       "FloatProgress(value=0.0, bar_style='info', description='Progress:', layout=Layout(height='25px', width='50%'),…"
      ]
     },
     "metadata": {},
     "output_type": "display_data"
    }
   ],
   "source": [
    "observation_schema = ArrayType(StructType([\n",
    "    StructField(\"Icao\", StringType(), False),\n",
    "    StructField(\"FSeen\", TimestampType(), True),\n",
    "    StructField('Alt', DoubleType(), True),\n",
    "    StructField('Lat', DoubleType(), True),\n",
    "    StructField('Long', DoubleType(), True),\n",
    "    StructField('PosTime', TimestampType(), True),\n",
    "    StructField('Spd', DoubleType(), True),\n",
    "    StructField('Op', StringType(), True),\n",
    "    StructField('Vsi', DoubleType(), True),\n",
    "    StructField('Mil', BooleanType(), True),\n",
    "    StructField('From', StringType(), True),\n",
    "    StructField('To', StringType(), True),\n",
    "    StructField('Gnd', BooleanType(), True),\n",
    "    StructField('TAlt', DoubleType(), True),\n",
    "    StructField('TTrk', DoubleType(), True),\n",
    "    StructField('NearestAirport', airports_schema, True)\n",
    "]))"
   ]
  },
  {
   "cell_type": "markdown",
   "metadata": {},
   "source": [
    "<h4>Data import</h4>"
   ]
  },
  {
   "cell_type": "code",
   "execution_count": 13,
   "metadata": {},
   "outputs": [
    {
     "data": {
      "application/vnd.jupyter.widget-view+json": {
       "model_id": "ee420fe8ac5a41ed9cae4c37b0edae92",
       "version_major": 2,
       "version_minor": 0
      },
      "text/plain": [
       "VBox()"
      ]
     },
     "metadata": {},
     "output_type": "display_data"
    },
    {
     "data": {
      "application/vnd.jupyter.widget-view+json": {
       "model_id": "",
       "version_major": 2,
       "version_minor": 0
      },
      "text/plain": [
       "FloatProgress(value=0.0, bar_style='info', description='Progress:', layout=Layout(height='25px', width='50%'),…"
      ]
     },
     "metadata": {},
     "output_type": "display_data"
    }
   ],
   "source": [
    "dayOneObservationDf = spark.read.parquet(S3InputPath)\n",
    "dayTwoObservationDf = spark.read.parquet(nextDayS3InputPath)\n",
    "observationDf = dayOneObservationDf.union(dayTwoObservationDf)"
   ]
  },
  {
   "cell_type": "code",
   "execution_count": 10,
   "metadata": {},
   "outputs": [
    {
     "data": {
      "application/vnd.jupyter.widget-view+json": {
       "model_id": "30a89a85e47f43bc9d3af7e2549d36cb",
       "version_major": 2,
       "version_minor": 0
      },
      "text/plain": [
       "VBox()"
      ]
     },
     "metadata": {},
     "output_type": "display_data"
    },
    {
     "data": {
      "application/vnd.jupyter.widget-view+json": {
       "model_id": "",
       "version_major": 2,
       "version_minor": 0
      },
      "text/plain": [
       "FloatProgress(value=0.0, bar_style='info', description='Progress:', layout=Layout(height='25px', width='50%'),…"
      ]
     },
     "metadata": {},
     "output_type": "display_data"
    },
    {
     "name": "stdout",
     "output_type": "stream",
     "text": [
      "[Row(Icao='A185A0', OpIcao=None, Op='HUFF PAUL E     - WALKERSVILLE, MD', Reg='N1978D', FSeen=datetime.datetime(2020, 10, 18, 18, 43, 59, 499000), TSecs=None, CMsgs=1, Alt=7800, TAlt=None, Lat=33.719788, Long=-82.713032, TTrk=None, PosTime=datetime.datetime(2020, 10, 18, 18, 43, 59, 499000), Spd=106.1, Vsi=768, From=None, To=None, Gnd=False, Mil=False), Row(Icao='A07C05', OpIcao=None, Op='COOPER GARY W     - GREENBACK, TN', Reg='N130JM', FSeen=datetime.datetime(2020, 10, 18, 18, 43, 58, 480000), TSecs=1, CMsgs=1, Alt=None, TAlt=None, Lat=34.212124, Long=-119.084387, TTrk=None, PosTime=datetime.datetime(2020, 10, 18, 18, 43, 58, 480000), Spd=3.8, Vsi=None, From=None, To=None, Gnd=True, Mil=False), Row(Icao='A65382', OpIcao=None, Op='AIR LAKE AVIATION LLC     - CAMDENTON, MO', Reg='N50665', FSeen=datetime.datetime(2020, 10, 18, 18, 43, 57, 666000), TSecs=2, CMsgs=2, Alt=2100, TAlt=None, Lat=36.794144, Long=-121.726587, TTrk=None, PosTime=datetime.datetime(2020, 10, 18, 18, 44, 0, 102000), Spd=105.3, Vsi=64, From=None, To=None, Gnd=False, Mil=False), Row(Icao='A37EE6', OpIcao=None, Op='DAVIS SEAN S DAVIS NATASHA A    - CARLISLE, IA', Reg='N324TS', FSeen=datetime.datetime(2020, 10, 18, 18, 43, 57, 371000), TSecs=3, CMsgs=2, Alt=6200, TAlt=None, Lat=32.687164, Long=-82.105609, TTrk=None, PosTime=datetime.datetime(2020, 10, 18, 18, 43, 59, 800000), Spd=None, Vsi=None, From=None, To=None, Gnd=False, Mil=False), Row(Icao='A0461D', OpIcao=None, Op='69 NOVEMBER LLC     - AUSTIN, TX', Reg='N1169N', FSeen=datetime.datetime(2020, 10, 18, 18, 43, 57, 48000), TSecs=3, CMsgs=2, Alt=5500, TAlt=None, Lat=31.270535, Long=-89.019196, TTrk=None, PosTime=datetime.datetime(2020, 10, 18, 18, 43, 59, 494000), Spd=120.6, Vsi=768, From=None, To=None, Gnd=False, Mil=False)]"
     ]
    }
   ],
   "source": [
    "observationDf.head(5)"
   ]
  },
  {
   "cell_type": "code",
   "execution_count": null,
   "metadata": {},
   "outputs": [],
   "source": [
    "observationDf.count()"
   ]
  },
  {
   "cell_type": "code",
   "execution_count": 14,
   "metadata": {},
   "outputs": [
    {
     "data": {
      "application/vnd.jupyter.widget-view+json": {
       "model_id": "9c3ff1363fc44528addc6c1819c83ab1",
       "version_major": 2,
       "version_minor": 0
      },
      "text/plain": [
       "VBox()"
      ]
     },
     "metadata": {},
     "output_type": "display_data"
    },
    {
     "data": {
      "application/vnd.jupyter.widget-view+json": {
       "model_id": "",
       "version_major": 2,
       "version_minor": 0
      },
      "text/plain": [
       "FloatProgress(value=0.0, bar_style='info', description='Progress:', layout=Layout(height='25px', width='50%'),…"
      ]
     },
     "metadata": {},
     "output_type": "display_data"
    }
   ],
   "source": [
    "# filter American registrations, drop nulls in Lat, Long, and PosTime columns\n",
    "observationDf = observationDf.filter(col('Reg').startswith('N')).filter((col('Lat').isNotNull()) & (col('Long').isNotNull()) & (col('PosTime').isNotNull()))"
   ]
  },
  {
   "cell_type": "code",
   "execution_count": 13,
   "metadata": {},
   "outputs": [
    {
     "data": {
      "application/vnd.jupyter.widget-view+json": {
       "model_id": "310ac89a92f74833b1011913e8ad61d6",
       "version_major": 2,
       "version_minor": 0
      },
      "text/plain": [
       "VBox()"
      ]
     },
     "metadata": {},
     "output_type": "display_data"
    },
    {
     "data": {
      "application/vnd.jupyter.widget-view+json": {
       "model_id": "",
       "version_major": 2,
       "version_minor": 0
      },
      "text/plain": [
       "FloatProgress(value=0.0, bar_style='info', description='Progress:', layout=Layout(height='25px', width='50%'),…"
      ]
     },
     "metadata": {},
     "output_type": "display_data"
    },
    {
     "name": "stdout",
     "output_type": "stream",
     "text": [
      "+------+------+--------------------+------+--------------------+-----+-----+-----+----+---------+-----------+----+--------------------+-----+----+--------------------+--------------------+-----+-----+\n",
      "|  Icao|OpIcao|                  Op|   Reg|               FSeen|TSecs|CMsgs|  Alt|TAlt|      Lat|       Long|TTrk|             PosTime|  Spd| Vsi|                From|                  To|  Gnd|  Mil|\n",
      "+------+------+--------------------+------+--------------------+-----+-----+-----+----+---------+-----------+----+--------------------+-----+----+--------------------+--------------------+-----+-----+\n",
      "|A185A0|  null|HUFF PAUL E     -...|N1978D|2020-10-18 18:43:...| null|    1| 7800|null|33.719788| -82.713032|null|2020-10-18 18:43:...|106.1| 768|                null|                null|false|false|\n",
      "|A07C05|  null|COOPER GARY W    ...|N130JM|2020-10-18 18:43:...|    1|    1| null|null|34.212124|-119.084387|null|2020-10-18 18:43:...|  3.8|null|                null|                null| true|false|\n",
      "|A65382|  null|AIR LAKE AVIATION...|N50665|2020-10-18 18:43:...|    2|    2| 2100|null|36.794144|-121.726587|null|2020-10-18 18:44:...|105.3|  64|                null|                null|false|false|\n",
      "|A37EE6|  null|DAVIS SEAN S DAVI...|N324TS|2020-10-18 18:43:...|    3|    2| 6200|null|32.687164| -82.105609|null|2020-10-18 18:43:...| null|null|                null|                null|false|false|\n",
      "|A0461D|  null|69 NOVEMBER LLC  ...|N1169N|2020-10-18 18:43:...|    3|    2| 5500|null|31.270535| -89.019196|null|2020-10-18 18:43:...|120.6| 768|                null|                null|false|false|\n",
      "|A60DB4|  null|HYLDBURG AVIATION...|N48990|2020-10-18 18:43:...|    3|    2|  500|null|41.927552| -70.720783|null|2020-10-18 18:43:...| 88.4| 640|                null|                null|false|false|\n",
      "|AB1D0B|  null|             Private|N815MJ|2020-10-18 18:43:...|    3|    2|  100|null|40.327505| -74.350225|null|2020-10-18 18:43:...| null|null|                null|                null|false|false|\n",
      "|A1A286|   SKW|      United Express|N204SY|2020-10-18 18:43:...|    4|    2| null|null|39.043839| -84.648849|null|2020-10-18 18:43:...| 26.5|null|                null|                null| true|false|\n",
      "|A83C9B|  null|     N2 Aviation LLC| N63NM|2020-10-18 18:43:...|    5|    3| null|null|33.631385|-111.901889|null|2020-10-18 18:44:...|  3.2|null|                null|                null| true|false|\n",
      "|A63645|  null|M7 AVIATION SERVI...|  N5LN|2020-10-18 18:43:...|    5|    3|20050|null| 28.23626| -86.432298|null|2020-10-18 18:44:...|258.0|   0|                null|                null|false|false|\n",
      "|A3724E|  null|BATTE BENNIE S BA...|N321CW|2020-10-18 18:43:...|    5|    3| 6300|null| 32.15419| -89.836523|null|2020-10-18 18:44:...|181.3|  64|                null|                null|false|false|\n",
      "|A54A4D|  null|PLANE CRAZY LLC  ...| N44WW|2020-10-18 18:43:...|    6|    3|10350|null|36.919006|-114.065143|null|2020-10-18 18:43:...|130.4|-192|                null|                null|false|false|\n",
      "|A97007|   RYA|RYAN AIR INC     ...|N707RA|2020-10-18 18:43:...|    6|    3|  175|1504| 61.53978|-165.602417|null|2020-10-18 18:43:...|116.3|1344|                null|                null|false|false|\n",
      "|A8E6F2|   AAL|   American Airlines|N673AW|2020-10-18 18:43:...|    6|    3| -475|null|42.357742| -71.012511|null|2020-10-18 18:43:...| 12.2|null|CLT Charlotte Dou...|CLT Charlotte Dou...| true|false|\n",
      "|AD0022|   SKW|DELTA AIR LINES I...|N937EV|2020-10-18 18:43:...|    6|    3| null|null| 39.86047|-104.663498|null|2020-10-18 18:43:...| 10.8|null|FAT Fresno Yosemi...|LAX Los Angeles, ...| true|false|\n",
      "|A82C98|   ASA|     Alaska Airlines|N626AS|2020-10-18 18:43:...|    6|    3|41000|null|60.919096|-157.985949|null|2020-10-18 18:43:...|466.7|  64|                null|                null|false|false|\n",
      "|A67ACC|  null|AL & ZAL CORP    ...|N5165M|2020-10-18 18:43:...|    6|    3| 3200|null|39.121477| -77.797241|null|2020-10-18 18:43:...| 96.9| 320|                null|                null|false|false|\n",
      "|A868DA|  null|Alliance Internat...|N6409M|2020-10-18 18:43:...|    8|    4| 2700|null|33.087422|-116.955404|null|2020-10-18 18:43:...| 79.1| 192|                null|                null|false|false|\n",
      "|A2EEC6|  null|MURPHY RONALD O  ...|N2885M|2020-10-18 18:43:...|    8|    4| 1200|null|36.175511| -79.838757|null|2020-10-18 18:43:...| 80.8| 576|                null|                null|false|false|\n",
      "|ABAECB|   ENY|AMERICAN AIRLINES...|N852AE|2020-10-18 18:43:...|    8|    4| 1600|null|38.835297| -92.209685|null|2020-10-18 18:43:...|153.8|2304|                null|                null|false|false|\n",
      "+------+------+--------------------+------+--------------------+-----+-----+-----+----+---------+-----------+----+--------------------+-----+----+--------------------+--------------------+-----+-----+\n",
      "only showing top 20 rows"
     ]
    }
   ],
   "source": [
    "observationDf.show()"
   ]
  },
  {
   "cell_type": "markdown",
   "metadata": {},
   "source": [
    "<h4>Adding closest airport</h4>"
   ]
  },
  {
   "cell_type": "code",
   "execution_count": 15,
   "metadata": {},
   "outputs": [
    {
     "data": {
      "application/vnd.jupyter.widget-view+json": {
       "model_id": "115fc3c616194de28b943a9eb33672bc",
       "version_major": 2,
       "version_minor": 0
      },
      "text/plain": [
       "VBox()"
      ]
     },
     "metadata": {},
     "output_type": "display_data"
    },
    {
     "data": {
      "application/vnd.jupyter.widget-view+json": {
       "model_id": "",
       "version_major": 2,
       "version_minor": 0
      },
      "text/plain": [
       "FloatProgress(value=0.0, bar_style='info', description='Progress:', layout=Layout(height='25px', width='50%'),…"
      ]
     },
     "metadata": {},
     "output_type": "display_data"
    }
   ],
   "source": [
    "def cartesian(lat, long):\n",
    "    lat = lat * (math.pi / 180)\n",
    "    long = long * (math.pi / 180)\n",
    "    R = 6371 # in km, relative to center of the earth\n",
    "    X = R * math.cos(lat) * math.cos(long)\n",
    "    Y = R * math.cos(lat) * math.sin(long)\n",
    "    return (X, Y)"
   ]
  },
  {
   "cell_type": "code",
   "execution_count": 16,
   "metadata": {},
   "outputs": [
    {
     "data": {
      "application/vnd.jupyter.widget-view+json": {
       "model_id": "eac260239c654e4bb0bbb371367d970f",
       "version_major": 2,
       "version_minor": 0
      },
      "text/plain": [
       "VBox()"
      ]
     },
     "metadata": {},
     "output_type": "display_data"
    },
    {
     "data": {
      "application/vnd.jupyter.widget-view+json": {
       "model_id": "",
       "version_major": 2,
       "version_minor": 0
      },
      "text/plain": [
       "FloatProgress(value=0.0, bar_style='info', description='Progress:', layout=Layout(height='25px', width='50%'),…"
      ]
     },
     "metadata": {},
     "output_type": "display_data"
    }
   ],
   "source": [
    "# Filter to US airports, and also omit records with (0,0) lat/long\n",
    "airport_db = spark.read.option('header', True).csv(AIRPORT_DB_LOC)\n",
    "airport_db = airport_db.filter((col('Country') == 'USA') & (col('LatDeg') != 0) & (col('LongDeg') != 0))\n",
    "airports = airport_db.toPandas()\n",
    "airports['LatLong'] = airports.apply(lambda row: cartesian(float(row['LatDeg']), float(row['LongDeg'])), axis=1)\n",
    "airports.drop(columns=['ICAO Code', 'LatDeg', 'LongDeg'], inplace=True)\n",
    "\n",
    "# Coordinates into a BTree\n",
    "airport_coords = list(airports['LatLong'])\n",
    "tree = spatial.KDTree(airport_coords)"
   ]
  },
  {
   "cell_type": "code",
   "execution_count": 17,
   "metadata": {},
   "outputs": [
    {
     "data": {
      "application/vnd.jupyter.widget-view+json": {
       "model_id": "ea09ed3ee02f47f6acd535b2a1a96f44",
       "version_major": 2,
       "version_minor": 0
      },
      "text/plain": [
       "VBox()"
      ]
     },
     "metadata": {},
     "output_type": "display_data"
    },
    {
     "data": {
      "application/vnd.jupyter.widget-view+json": {
       "model_id": "",
       "version_major": 2,
       "version_minor": 0
      },
      "text/plain": [
       "FloatProgress(value=0.0, bar_style='info', description='Progress:', layout=Layout(height='25px', width='50%'),…"
      ]
     },
     "metadata": {},
     "output_type": "display_data"
    }
   ],
   "source": [
    "bairports = sc.broadcast(airports)\n",
    "btree = sc.broadcast(tree)"
   ]
  },
  {
   "cell_type": "code",
   "execution_count": 18,
   "metadata": {},
   "outputs": [
    {
     "data": {
      "application/vnd.jupyter.widget-view+json": {
       "model_id": "e7a01502d6ba4bbd829a84b45c8c0b7e",
       "version_major": 2,
       "version_minor": 0
      },
      "text/plain": [
       "VBox()"
      ]
     },
     "metadata": {},
     "output_type": "display_data"
    },
    {
     "data": {
      "application/vnd.jupyter.widget-view+json": {
       "model_id": "",
       "version_major": 2,
       "version_minor": 0
      },
      "text/plain": [
       "FloatProgress(value=0.0, bar_style='info', description='Progress:', layout=Layout(height='25px', width='50%'),…"
      ]
     },
     "metadata": {},
     "output_type": "display_data"
    }
   ],
   "source": [
    "def closest_airport(lat, long):\n",
    "    def cartesian(lat, long):\n",
    "        lat = lat * (math.pi / 180)\n",
    "        long = long * (math.pi / 180)\n",
    "        R = 6371 # in km, relative to center of the earth\n",
    "        X = R * math.cos(lat) * math.cos(long)\n",
    "        Y = R * math.cos(lat) * math.sin(long)\n",
    "        return (X, Y)\n",
    "    \n",
    "    airports = bairports.value\n",
    "    tree = btree.value\n",
    "    \n",
    "    query = tree.query([cartesian(lat, long)])\n",
    "    distance = query[0].tolist()[0]\n",
    "    index = query[1].tolist()[0]\n",
    "    airport = airports.iloc[index]\n",
    "    \n",
    "    return [airport['IATA Code'], airport['Name'], airport['City'], distance]"
   ]
  },
  {
   "cell_type": "code",
   "execution_count": 19,
   "metadata": {},
   "outputs": [
    {
     "data": {
      "application/vnd.jupyter.widget-view+json": {
       "model_id": "7722a583f7c4417d8cd8dad722617d12",
       "version_major": 2,
       "version_minor": 0
      },
      "text/plain": [
       "VBox()"
      ]
     },
     "metadata": {},
     "output_type": "display_data"
    },
    {
     "data": {
      "application/vnd.jupyter.widget-view+json": {
       "model_id": "",
       "version_major": 2,
       "version_minor": 0
      },
      "text/plain": [
       "FloatProgress(value=0.0, bar_style='info', description='Progress:', layout=Layout(height='25px', width='50%'),…"
      ]
     },
     "metadata": {},
     "output_type": "display_data"
    }
   ],
   "source": [
    "closest_airport_udf = udf(closest_airport, airports_schema)"
   ]
  },
  {
   "cell_type": "code",
   "execution_count": 20,
   "metadata": {},
   "outputs": [
    {
     "data": {
      "application/vnd.jupyter.widget-view+json": {
       "model_id": "4d60eb87e2a240acb7809acf61239c14",
       "version_major": 2,
       "version_minor": 0
      },
      "text/plain": [
       "VBox()"
      ]
     },
     "metadata": {},
     "output_type": "display_data"
    },
    {
     "data": {
      "application/vnd.jupyter.widget-view+json": {
       "model_id": "",
       "version_major": 2,
       "version_minor": 0
      },
      "text/plain": [
       "FloatProgress(value=0.0, bar_style='info', description='Progress:', layout=Layout(height='25px', width='50%'),…"
      ]
     },
     "metadata": {},
     "output_type": "display_data"
    }
   ],
   "source": [
    "observationDf = observationDf.withColumn('NearestAirport', closest_airport_udf(col('Lat'), col('Long')))\n",
    "# observationDf.show()"
   ]
  },
  {
   "cell_type": "markdown",
   "metadata": {},
   "source": [
    "<h4>Flight processing</h4>"
   ]
  },
  {
   "cell_type": "code",
   "execution_count": 21,
   "metadata": {},
   "outputs": [
    {
     "data": {
      "application/vnd.jupyter.widget-view+json": {
       "model_id": "6ae203f171aa4fd5a0a54131a2d6f469",
       "version_major": 2,
       "version_minor": 0
      },
      "text/plain": [
       "VBox()"
      ]
     },
     "metadata": {},
     "output_type": "display_data"
    },
    {
     "data": {
      "application/vnd.jupyter.widget-view+json": {
       "model_id": "",
       "version_major": 2,
       "version_minor": 0
      },
      "text/plain": [
       "FloatProgress(value=0.0, bar_style='info', description='Progress:', layout=Layout(height='25px', width='50%'),…"
      ]
     },
     "metadata": {},
     "output_type": "display_data"
    }
   ],
   "source": [
    "cols = ['Icao', 'PosTime', 'FSeen', 'Alt', 'Lat', 'Long', 'Spd', 'Op', 'Vsi', 'Mil', 'From', 'To', 'Gnd', 'TAlt', 'TTrk', 'NearestAirport']\n",
    "\n",
    "observationsPerAircraft = observationDf.withColumn('combined', F.struct(*cols)).\\\n",
    "    groupBy('Icao').agg(F.sort_array(F.collect_list('combined'))).withColumnRenamed('sort_array(collect_list(combined), true)', 'observations')\n",
    "# observationsPerAircraft.show()"
   ]
  },
  {
   "cell_type": "code",
   "execution_count": 22,
   "metadata": {},
   "outputs": [
    {
     "data": {
      "application/vnd.jupyter.widget-view+json": {
       "model_id": "d0acce8a0d2f4562b28f0ab3f1d6bff4",
       "version_major": 2,
       "version_minor": 0
      },
      "text/plain": [
       "VBox()"
      ]
     },
     "metadata": {},
     "output_type": "display_data"
    },
    {
     "data": {
      "application/vnd.jupyter.widget-view+json": {
       "model_id": "",
       "version_major": 2,
       "version_minor": 0
      },
      "text/plain": [
       "FloatProgress(value=0.0, bar_style='info', description='Progress:', layout=Layout(height='25px', width='50%'),…"
      ]
     },
     "metadata": {},
     "output_type": "display_data"
    }
   ],
   "source": [
    "sortedObservationsPerAircraft = observationsPerAircraft.withColumn('sorted_observations', col('observations')).select('Icao', 'sorted_observations')"
   ]
  },
  {
   "cell_type": "code",
   "execution_count": 25,
   "metadata": {},
   "outputs": [
    {
     "data": {
      "application/vnd.jupyter.widget-view+json": {
       "model_id": "f45c3bcc51c949eea966765f61930d15",
       "version_major": 2,
       "version_minor": 0
      },
      "text/plain": [
       "VBox()"
      ]
     },
     "metadata": {},
     "output_type": "display_data"
    },
    {
     "data": {
      "application/vnd.jupyter.widget-view+json": {
       "model_id": "",
       "version_major": 2,
       "version_minor": 0
      },
      "text/plain": [
       "FloatProgress(value=0.0, bar_style='info', description='Progress:', layout=Layout(height='25px', width='50%'),…"
      ]
     },
     "metadata": {},
     "output_type": "display_data"
    }
   ],
   "source": [
    "dayOfInterestYear, dayOfInterestMonth, dayOfInterestDay = day.split('-')\n",
    "def isOnDay(timestamp):\n",
    "    testYear = timestamp.strftime('%Y')\n",
    "    testMonth = timestamp.strftime('%m')\n",
    "    testDay = timestamp.strftime('%d')\n",
    "    return dayOfInterestYear == testYear and dayOfInterestMonth == testMonth and dayOfInterestDay == testDay"
   ]
  },
  {
   "cell_type": "code",
   "execution_count": 31,
   "metadata": {},
   "outputs": [
    {
     "data": {
      "application/vnd.jupyter.widget-view+json": {
       "model_id": "1233fbd91d5a40fca473b42981ff9041",
       "version_major": 2,
       "version_minor": 0
      },
      "text/plain": [
       "VBox()"
      ]
     },
     "metadata": {},
     "output_type": "display_data"
    },
    {
     "data": {
      "application/vnd.jupyter.widget-view+json": {
       "model_id": "",
       "version_major": 2,
       "version_minor": 0
      },
      "text/plain": [
       "FloatProgress(value=0.0, bar_style='info', description='Progress:', layout=Layout(height='25px', width='50%'),…"
      ]
     },
     "metadata": {},
     "output_type": "display_data"
    }
   ],
   "source": [
    "@udf(returnType=ArrayType(flight_schema))\n",
    "def createFlights(obList):\n",
    "    flightList = []\n",
    "    if len(obList) == 0:\n",
    "        return []\n",
    "    \n",
    "    # aircraft Icao and operator Icao should be the same for all flights with the same aircraft Icao code\n",
    "    aircraftIcao = obList[0]['Icao']\n",
    "    operator = obList[0]['Op']\n",
    "    \n",
    "    flightStarted = None \n",
    "    currentFlight = None\n",
    "    \n",
    "    for ob in obList:\n",
    "        # initial observations - could be flight that departed on day before\n",
    "        if flightStarted == None:\n",
    "            # if plane is on the ground, start looking for beginning of flight\n",
    "            if ob['Gnd']:\n",
    "                flightStarted = False\n",
    "        else:\n",
    "            # flight has started\n",
    "            if flightStarted == False and ob['Gnd'] == False and isOnDay(ob['PosTime']):\n",
    "                flightStarted = True\n",
    "                currentFlight = {'AircraftIcao': aircraftIcao, 'Operator': operator, 'From': ob['NearestAirport'], 'DepartedAt': ob['PosTime']}\n",
    "            # flight has ended\n",
    "            elif flightStarted == True and ob['Gnd'] == True:\n",
    "                flightStarted = False\n",
    "                currentFlight['To'] = ob['NearestAirport']\n",
    "                currentFlight['ArrivedAt'] = ob['PosTime']\n",
    "                flightList.append(currentFlight)\n",
    "    \n",
    "    # handle flights that do not have ending observations\n",
    "#     if flightStarted == True:\n",
    "#         currentFlight['To'] = None\n",
    "#         currentFlight['ArrivedAt'] = None\n",
    "#         flightList.append(currentFlight)\n",
    "    \n",
    "    return flightList"
   ]
  },
  {
   "cell_type": "code",
   "execution_count": 32,
   "metadata": {},
   "outputs": [
    {
     "data": {
      "application/vnd.jupyter.widget-view+json": {
       "model_id": "f39abdce51ba4253aba199c990a0e668",
       "version_major": 2,
       "version_minor": 0
      },
      "text/plain": [
       "VBox()"
      ]
     },
     "metadata": {},
     "output_type": "display_data"
    },
    {
     "data": {
      "application/vnd.jupyter.widget-view+json": {
       "model_id": "",
       "version_major": 2,
       "version_minor": 0
      },
      "text/plain": [
       "FloatProgress(value=0.0, bar_style='info', description='Progress:', layout=Layout(height='25px', width='50%'),…"
      ]
     },
     "metadata": {},
     "output_type": "display_data"
    }
   ],
   "source": [
    "flightsPerAircraft = sortedObservationsPerAircraft.withColumn(\"flights\", createFlights(col(\"sorted_observations\")))\n",
    "# flightsPerAircraft.show()"
   ]
  },
  {
   "cell_type": "markdown",
   "metadata": {},
   "source": [
    "<h4>Creating Flight Dataframe</h4>"
   ]
  },
  {
   "cell_type": "code",
   "execution_count": 33,
   "metadata": {},
   "outputs": [
    {
     "data": {
      "application/vnd.jupyter.widget-view+json": {
       "model_id": "7a4aa3051e8343f0915e683688907261",
       "version_major": 2,
       "version_minor": 0
      },
      "text/plain": [
       "VBox()"
      ]
     },
     "metadata": {},
     "output_type": "display_data"
    },
    {
     "data": {
      "application/vnd.jupyter.widget-view+json": {
       "model_id": "",
       "version_major": 2,
       "version_minor": 0
      },
      "text/plain": [
       "FloatProgress(value=0.0, bar_style='info', description='Progress:', layout=Layout(height='25px', width='50%'),…"
      ]
     },
     "metadata": {},
     "output_type": "display_data"
    }
   ],
   "source": [
    "flightsDf = flightsPerAircraft.select(F.explode(col('flights')).alias('flights'))\n",
    "# flightsDf.show()"
   ]
  },
  {
   "cell_type": "code",
   "execution_count": 34,
   "metadata": {},
   "outputs": [
    {
     "data": {
      "application/vnd.jupyter.widget-view+json": {
       "model_id": "7ab8226eb3834256b8f4df82c00339c7",
       "version_major": 2,
       "version_minor": 0
      },
      "text/plain": [
       "VBox()"
      ]
     },
     "metadata": {},
     "output_type": "display_data"
    },
    {
     "data": {
      "application/vnd.jupyter.widget-view+json": {
       "model_id": "",
       "version_major": 2,
       "version_minor": 0
      },
      "text/plain": [
       "FloatProgress(value=0.0, bar_style='info', description='Progress:', layout=Layout(height='25px', width='50%'),…"
      ]
     },
     "metadata": {},
     "output_type": "display_data"
    }
   ],
   "source": [
    "flightsDf = flightsDf.select(flightsDf.flights['AircraftIcao'].alias('AircraftIcao'), \\\n",
    "                 flightsDf.flights['Operator'].alias('Operator'), \\\n",
    "                 flightsDf.flights['From'].alias('From'), \\\n",
    "                 flightsDf.flights['To'].alias('To'), \\\n",
    "                 flightsDf.flights['DepartedAt'].alias('DepartedAt'), \\\n",
    "                 flightsDf.flights['ArrivedAt'].alias('ArrivedAt') \\\n",
    "                )\n",
    "# flightsDf.show()"
   ]
  },
  {
   "cell_type": "code",
   "execution_count": 35,
   "metadata": {},
   "outputs": [
    {
     "data": {
      "application/vnd.jupyter.widget-view+json": {
       "model_id": "7cda6d7542074086a412ff3947e19bbe",
       "version_major": 2,
       "version_minor": 0
      },
      "text/plain": [
       "VBox()"
      ]
     },
     "metadata": {},
     "output_type": "display_data"
    },
    {
     "data": {
      "application/vnd.jupyter.widget-view+json": {
       "model_id": "",
       "version_major": 2,
       "version_minor": 0
      },
      "text/plain": [
       "FloatProgress(value=0.0, bar_style='info', description='Progress:', layout=Layout(height='25px', width='50%'),…"
      ]
     },
     "metadata": {},
     "output_type": "display_data"
    }
   ],
   "source": [
    "flightsDf.write.parquet(S3OutputPath)"
   ]
  },
  {
   "cell_type": "markdown",
   "metadata": {},
   "source": [
    "<h3>Analysis</h3>"
   ]
  },
  {
   "cell_type": "code",
   "execution_count": 6,
   "metadata": {},
   "outputs": [
    {
     "data": {
      "application/vnd.jupyter.widget-view+json": {
       "model_id": "3ea8c4cbe53b41b1891db150229abe85",
       "version_major": 2,
       "version_minor": 0
      },
      "text/plain": [
       "VBox()"
      ]
     },
     "metadata": {},
     "output_type": "display_data"
    },
    {
     "data": {
      "application/vnd.jupyter.widget-view+json": {
       "model_id": "",
       "version_major": 2,
       "version_minor": 0
      },
      "text/plain": [
       "FloatProgress(value=0.0, bar_style='info', description='Progress:', layout=Layout(height='25px', width='50%'),…"
      ]
     },
     "metadata": {},
     "output_type": "display_data"
    }
   ],
   "source": [
    "flightsDf = spark.read.parquet(S3OutputPath)"
   ]
  },
  {
   "cell_type": "markdown",
   "metadata": {},
   "source": [
    "<h5>How many flights were there?</h5>"
   ]
  },
  {
   "cell_type": "code",
   "execution_count": 37,
   "metadata": {},
   "outputs": [
    {
     "data": {
      "application/vnd.jupyter.widget-view+json": {
       "model_id": "5ed2d91ae5684394a6bc297f63e6bb7c",
       "version_major": 2,
       "version_minor": 0
      },
      "text/plain": [
       "VBox()"
      ]
     },
     "metadata": {},
     "output_type": "display_data"
    },
    {
     "data": {
      "application/vnd.jupyter.widget-view+json": {
       "model_id": "",
       "version_major": 2,
       "version_minor": 0
      },
      "text/plain": [
       "FloatProgress(value=0.0, bar_style='info', description='Progress:', layout=Layout(height='25px', width='50%'),…"
      ]
     },
     "metadata": {},
     "output_type": "display_data"
    },
    {
     "name": "stdout",
     "output_type": "stream",
     "text": [
      "22692"
     ]
    }
   ],
   "source": [
    "flightsDf.count() # should be about 22k"
   ]
  },
  {
   "cell_type": "markdown",
   "metadata": {},
   "source": [
    "<h5>What were the five earliest flights–the five flights that began earliest.  Present these flights in a table including:  Operator Name, Begin Time, End Time, Departure Airport Code, Arrival Airport Code.</h5>"
   ]
  },
  {
   "cell_type": "code",
   "execution_count": 7,
   "metadata": {},
   "outputs": [
    {
     "data": {
      "application/vnd.jupyter.widget-view+json": {
       "model_id": "37a9ddb9d24147e6aadacc353761fd2e",
       "version_major": 2,
       "version_minor": 0
      },
      "text/plain": [
       "VBox()"
      ]
     },
     "metadata": {},
     "output_type": "display_data"
    },
    {
     "data": {
      "application/vnd.jupyter.widget-view+json": {
       "model_id": "",
       "version_major": 2,
       "version_minor": 0
      },
      "text/plain": [
       "FloatProgress(value=0.0, bar_style='info', description='Progress:', layout=Layout(height='25px', width='50%'),…"
      ]
     },
     "metadata": {},
     "output_type": "display_data"
    },
    {
     "name": "stdout",
     "output_type": "stream",
     "text": [
      "+-------------------------------------------------+-----------------------+-----------------------+---------+-------+\n",
      "|Operator                                         |DepartedAt             |ArrivedAt              |From.Code|To.Code|\n",
      "+-------------------------------------------------+-----------------------+-----------------------+---------+-------+\n",
      "|Southwest Airlines                               |2020-10-18 00:00:13.831|2020-10-18 01:51:28.892|BWI      |MCO    |\n",
      "|RAINIER HELI INTERNATIONAL INC     - KIRKLAND, WA|2020-10-18 00:00:14.136|2020-10-18 00:09:43.454|LAS      |LAS    |\n",
      "|SMITH COLIN B     - SAN DIEGO, CA                |2020-10-18 00:00:14.58 |2020-10-18 00:40:28.859|PSP      |SAN    |\n",
      "|SkyWest Airlines                                 |2020-10-18 00:00:15.782|2020-10-18 16:30:29.174|DEN      |DEN    |\n",
      "|Sprockets Excel LLC                              |2020-10-18 00:00:29.049|2020-10-18 00:20:13.614|FTW      |DAL    |\n",
      "+-------------------------------------------------+-----------------------+-----------------------+---------+-------+\n",
      "only showing top 5 rows"
     ]
    }
   ],
   "source": [
    "flightsDf.orderBy(col('DepartedAt')).select(col('Operator'), col('DepartedAt'), col('ArrivedAt'), col('From')['Code'], col('To')['Code']).show(5, truncate=False)"
   ]
  },
  {
   "cell_type": "markdown",
   "metadata": {},
   "source": [
    "<h5>What were the five latest flights–the five flights that begin on 2020-10-18 and arrived latest.  Present these flights in a table with the same format as the previous question.</h5>"
   ]
  },
  {
   "cell_type": "code",
   "execution_count": 8,
   "metadata": {},
   "outputs": [
    {
     "data": {
      "application/vnd.jupyter.widget-view+json": {
       "model_id": "dd1953d8fbd14863890ebf17213993d2",
       "version_major": 2,
       "version_minor": 0
      },
      "text/plain": [
       "VBox()"
      ]
     },
     "metadata": {},
     "output_type": "display_data"
    },
    {
     "data": {
      "application/vnd.jupyter.widget-view+json": {
       "model_id": "",
       "version_major": 2,
       "version_minor": 0
      },
      "text/plain": [
       "FloatProgress(value=0.0, bar_style='info', description='Progress:', layout=Layout(height='25px', width='50%'),…"
      ]
     },
     "metadata": {},
     "output_type": "display_data"
    },
    {
     "name": "stdout",
     "output_type": "stream",
     "text": [
      "+------------------------------------------------+-----------------------+-----------------------+---------+-------+\n",
      "|Operator                                        |DepartedAt             |ArrivedAt              |From.Code|To.Code|\n",
      "+------------------------------------------------+-----------------------+-----------------------+---------+-------+\n",
      "|United Airlines                                 |2020-10-18 10:36:15.707|2020-10-19 23:56:59.491|ORD      |EWR    |\n",
      "|UNIVERSITY OF NORTH DAKOTA     - GRAND FORKS, ND|2020-10-18 12:04:28.645|2020-10-19 23:55:28.224|VRB      |VRB    |\n",
      "|ATLAS AIR INC     - PURCHASE, NY                |2020-10-18 21:44:43.47 |2020-10-19 23:55:15.512|LAX      |ANC    |\n",
      "|BRISCOE FLYERS LLC     - DULUTH, GA             |2020-10-18 21:50:15.19 |2020-10-19 23:55:15.356|AND      |CHA    |\n",
      "|Med Trans                                       |2020-10-18 05:59:58.592|2020-10-19 23:55:13.843|FAT      |MOD    |\n",
      "+------------------------------------------------+-----------------------+-----------------------+---------+-------+\n",
      "only showing top 5 rows"
     ]
    }
   ],
   "source": [
    "flightsDf.orderBy(col('ArrivedAt'), ascending=False).select(col('Operator'), col('DepartedAt'), col('ArrivedAt'), col('From')['Code'], col('To')['Code']).show(5, truncate=False)"
   ]
  },
  {
   "cell_type": "markdown",
   "metadata": {},
   "source": [
    "<h5>List the five operators that had the most flights beginning that day.  Present the operators in a table that includes Operator name, and number of flights, sorted in descending order of number of flights. </h5>"
   ]
  },
  {
   "cell_type": "code",
   "execution_count": 41,
   "metadata": {},
   "outputs": [
    {
     "data": {
      "application/vnd.jupyter.widget-view+json": {
       "model_id": "c456da7a692240e9b5a30b117ab20153",
       "version_major": 2,
       "version_minor": 0
      },
      "text/plain": [
       "VBox()"
      ]
     },
     "metadata": {},
     "output_type": "display_data"
    },
    {
     "data": {
      "application/vnd.jupyter.widget-view+json": {
       "model_id": "",
       "version_major": 2,
       "version_minor": 0
      },
      "text/plain": [
       "FloatProgress(value=0.0, bar_style='info', description='Progress:', layout=Layout(height='25px', width='50%'),…"
      ]
     },
     "metadata": {},
     "output_type": "display_data"
    },
    {
     "name": "stdout",
     "output_type": "stream",
     "text": [
      "+------------------+-----+\n",
      "|Operator          |count|\n",
      "+------------------+-----+\n",
      "|Southwest Airlines|1639 |\n",
      "|American Airlines |1480 |\n",
      "|Delta Air Lines   |969  |\n",
      "|Private           |944  |\n",
      "|United Airlines   |707  |\n",
      "+------------------+-----+\n",
      "only showing top 5 rows"
     ]
    }
   ],
   "source": [
    "flightsDf.groupBy('Operator').count().orderBy(col('count'), ascending=False).show(5, truncate=False)"
   ]
  },
  {
   "cell_type": "markdown",
   "metadata": {},
   "source": [
    "<h5>Which five airports had the most flights depart from it on that day.  Present the airports in a table that includes Airport Code, and number of flights.  The table should be sorted in descending order of number of flights. </h5>"
   ]
  },
  {
   "cell_type": "code",
   "execution_count": 49,
   "metadata": {},
   "outputs": [
    {
     "data": {
      "application/vnd.jupyter.widget-view+json": {
       "model_id": "68384dd1c0b244c1a07692fd5bb5dce6",
       "version_major": 2,
       "version_minor": 0
      },
      "text/plain": [
       "VBox()"
      ]
     },
     "metadata": {},
     "output_type": "display_data"
    },
    {
     "data": {
      "application/vnd.jupyter.widget-view+json": {
       "model_id": "",
       "version_major": 2,
       "version_minor": 0
      },
      "text/plain": [
       "FloatProgress(value=0.0, bar_style='info', description='Progress:', layout=Layout(height='25px', width='50%'),…"
      ]
     },
     "metadata": {},
     "output_type": "display_data"
    },
    {
     "name": "stdout",
     "output_type": "stream",
     "text": [
      "+----------+-----+\n",
      "|From[Code]|count|\n",
      "+----------+-----+\n",
      "|PHX       |1344 |\n",
      "|DFW       |784  |\n",
      "|DEN       |700  |\n",
      "|ORD       |693  |\n",
      "|SLC       |581  |\n",
      "+----------+-----+\n",
      "only showing top 5 rows"
     ]
    }
   ],
   "source": [
    "flightsDf.groupBy(col('From')['Code']).count().orderBy(col('count'), ascending=False).show(5, truncate=False)"
   ]
  },
  {
   "cell_type": "markdown",
   "metadata": {},
   "source": [
    "<h5>How many flights flew out of Seatac airport on that day?  What five operators had the most flights out of Seatac airport on that day?</h5>"
   ]
  },
  {
   "cell_type": "code",
   "execution_count": 50,
   "metadata": {},
   "outputs": [
    {
     "data": {
      "application/vnd.jupyter.widget-view+json": {
       "model_id": "e5fc38502ce74710ab76b656dcf9a18e",
       "version_major": 2,
       "version_minor": 0
      },
      "text/plain": [
       "VBox()"
      ]
     },
     "metadata": {},
     "output_type": "display_data"
    },
    {
     "data": {
      "application/vnd.jupyter.widget-view+json": {
       "model_id": "",
       "version_major": 2,
       "version_minor": 0
      },
      "text/plain": [
       "FloatProgress(value=0.0, bar_style='info', description='Progress:', layout=Layout(height='25px', width='50%'),…"
      ]
     },
     "metadata": {},
     "output_type": "display_data"
    },
    {
     "name": "stdout",
     "output_type": "stream",
     "text": [
      "438"
     ]
    }
   ],
   "source": [
    "seattleFlights = flightsDf.filter(col('From')['Code'] == 'SEA')\n",
    "seattleFlights.count()"
   ]
  },
  {
   "cell_type": "code",
   "execution_count": 51,
   "metadata": {},
   "outputs": [
    {
     "data": {
      "application/vnd.jupyter.widget-view+json": {
       "model_id": "89c1148ff52c4219aa2aef147bd58d2b",
       "version_major": 2,
       "version_minor": 0
      },
      "text/plain": [
       "VBox()"
      ]
     },
     "metadata": {},
     "output_type": "display_data"
    },
    {
     "data": {
      "application/vnd.jupyter.widget-view+json": {
       "model_id": "",
       "version_major": 2,
       "version_minor": 0
      },
      "text/plain": [
       "FloatProgress(value=0.0, bar_style='info', description='Progress:', layout=Layout(height='25px', width='50%'),…"
      ]
     },
     "metadata": {},
     "output_type": "display_data"
    },
    {
     "name": "stdout",
     "output_type": "stream",
     "text": [
      "+----------------+-----+\n",
      "|        Operator|count|\n",
      "+----------------+-----+\n",
      "| Alaska Airlines|  162|\n",
      "|     Horizon Air|   60|\n",
      "| Delta Air Lines|   56|\n",
      "|Delta Connection|   44|\n",
      "|  Virgin America|   16|\n",
      "+----------------+-----+\n",
      "only showing top 5 rows"
     ]
    }
   ],
   "source": [
    "seattleFlights.groupBy('Operator').count().orderBy(col('count'), ascending=False).show(5)"
   ]
  }
 ],
 "metadata": {
  "kernelspec": {
   "display_name": "PySpark",
   "language": "",
   "name": "pysparkkernel"
  },
  "language_info": {
   "codemirror_mode": {
    "name": "python",
    "version": 2
   },
   "mimetype": "text/x-python",
   "name": "pyspark",
   "pygments_lexer": "python2"
  }
 },
 "nbformat": 4,
 "nbformat_minor": 4
}
